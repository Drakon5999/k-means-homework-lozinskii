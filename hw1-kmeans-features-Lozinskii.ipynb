{
 "cells": [
  {
   "cell_type": "markdown",
   "metadata": {},
   "source": [
    "# Алгоритмы интеллектуальной обработки больших объемов данных\n",
    "## Домашнее задание №1 - Метод k-средних, предобработка признаков\n"
   ]
  },
  {
   "cell_type": "markdown",
   "metadata": {},
   "source": [
    "# <hr\\>\n",
    "**Общая информация**\n",
    "\n",
    "**Срок сдачи:** до 7 октября 2017, 06:00   \n",
    "**Штраф за опоздание:** -2 балла после 06:00 7 октября, -4 балла после 06:00 14 октября, -6 баллов после 06:00 21 октября\n",
    "\n",
    "При отправлении ДЗ указывайте фамилию в названии файла   \n",
    "\n",
    "\n",
    "Присылать ДЗ необходимо в виде ссылки на свой github репозиторий в slack @alkhamush\n",
    "Необходимо в slack создать таск в приватный чат:   \n",
    "/todo Фамилия Имя *ссылка на гитхаб* @alkhamush   \n",
    "Пример:   \n",
    "/todo Ксения Стройкова https://github.com/stroykova/spheremailru/stroykova_hw1.ipynb @alkhamush   \n",
    "\n",
    "Используйте данный Ipython Notebook при оформлении домашнего задания.\n",
    "<hr\\>"
   ]
  },
  {
   "cell_type": "markdown",
   "metadata": {},
   "source": [
    "# Первое задание - указать фамилию в имени файла"
   ]
  },
  {
   "cell_type": "code",
   "execution_count": 1,
   "metadata": {
    "collapsed": true
   },
   "outputs": [],
   "source": [
    "import pandas as pd\n",
    "import numpy as np\n",
    "import matplotlib.pyplot as plt\n",
    "\n",
    "%matplotlib inline\n",
    "\n",
    "plt.style.use('ggplot')\n",
    "plt.rcParams['figure.figsize'] = (12,5)"
   ]
  },
  {
   "cell_type": "markdown",
   "metadata": {},
   "source": [
    "# Пролог: Модуль sklearn\n",
    "На наших практических занятиях мы будем использовать [sklearn](http://scikit-learn.org/stable/index.html) (scikit-learn) - наиболее популярный модуль для работы с методами машинного обучения и анализа данных.\n",
    "\n",
    "Этот модуль регулярно обновляется, расширяется и сопровождается примерами использования тех или иных методов. Помимо самих алгоритмов (например k-средних или линейной регрессии) в нем есть множество вспомогательных функций по работе с данными."
   ]
  },
  {
   "cell_type": "markdown",
   "metadata": {},
   "source": [
    "# Туториал: Работа с различными типами признаков"
   ]
  },
  {
   "cell_type": "markdown",
   "metadata": {},
   "source": [
    "Вспомним какие типы признаков могут встретится при описании объектов исследования и как их представить в доступной для обработки компьтером форме"
   ]
  },
  {
   "cell_type": "markdown",
   "metadata": {},
   "source": [
    "Типы признаков мы будем рассматривать на примере довольно популярного набора данных [titanic](https://www.kaggle.com/c/titanic/download/train.csv) - информации о выживаемости пассажиров после известной трагедии корабля Titanic."
   ]
  },
  {
   "cell_type": "raw",
   "metadata": {},
   "source": [
    "ARIABLE DESCRIPTIONS:\n",
    "survival        Survival\n",
    "                (0 = No; 1 = Yes)\n",
    "pclass          Passenger Class\n",
    "                (1 = 1st; 2 = 2nd; 3 = 3rd)\n",
    "name            Name\n",
    "sex             Sex\n",
    "age             Age\n",
    "sibsp           Number of Siblings/Spouses Aboard\n",
    "parch           Number of Parents/Children Aboard\n",
    "ticket          Ticket Number\n",
    "fare            Passenger Fare\n",
    "cabin           Cabin\n",
    "embarked        Port of Embarkation\n",
    "                (C = Cherbourg; Q = Queenstown; S = Southampton)"
   ]
  },
  {
   "cell_type": "code",
   "execution_count": 2,
   "metadata": {
    "collapsed": false
   },
   "outputs": [
    {
     "data": {
      "text/html": [
       "<div>\n",
       "<table border=\"1\" class=\"dataframe\">\n",
       "  <thead>\n",
       "    <tr style=\"text-align: right;\">\n",
       "      <th></th>\n",
       "      <th>PassengerId</th>\n",
       "      <th>Survived</th>\n",
       "      <th>Pclass</th>\n",
       "      <th>Name</th>\n",
       "      <th>Sex</th>\n",
       "      <th>Age</th>\n",
       "      <th>SibSp</th>\n",
       "      <th>Parch</th>\n",
       "      <th>Ticket</th>\n",
       "      <th>Fare</th>\n",
       "      <th>Cabin</th>\n",
       "      <th>Embarked</th>\n",
       "    </tr>\n",
       "  </thead>\n",
       "  <tbody>\n",
       "    <tr>\n",
       "      <th>1</th>\n",
       "      <td>2</td>\n",
       "      <td>1</td>\n",
       "      <td>1</td>\n",
       "      <td>Cumings, Mrs. John Bradley (Florence Briggs Th...</td>\n",
       "      <td>female</td>\n",
       "      <td>38.0</td>\n",
       "      <td>1</td>\n",
       "      <td>0</td>\n",
       "      <td>PC 17599</td>\n",
       "      <td>71.2833</td>\n",
       "      <td>C85</td>\n",
       "      <td>C</td>\n",
       "    </tr>\n",
       "    <tr>\n",
       "      <th>3</th>\n",
       "      <td>4</td>\n",
       "      <td>1</td>\n",
       "      <td>1</td>\n",
       "      <td>Futrelle, Mrs. Jacques Heath (Lily May Peel)</td>\n",
       "      <td>female</td>\n",
       "      <td>35.0</td>\n",
       "      <td>1</td>\n",
       "      <td>0</td>\n",
       "      <td>113803</td>\n",
       "      <td>53.1000</td>\n",
       "      <td>C123</td>\n",
       "      <td>S</td>\n",
       "    </tr>\n",
       "    <tr>\n",
       "      <th>6</th>\n",
       "      <td>7</td>\n",
       "      <td>0</td>\n",
       "      <td>1</td>\n",
       "      <td>McCarthy, Mr. Timothy J</td>\n",
       "      <td>male</td>\n",
       "      <td>54.0</td>\n",
       "      <td>0</td>\n",
       "      <td>0</td>\n",
       "      <td>17463</td>\n",
       "      <td>51.8625</td>\n",
       "      <td>E46</td>\n",
       "      <td>S</td>\n",
       "    </tr>\n",
       "    <tr>\n",
       "      <th>10</th>\n",
       "      <td>11</td>\n",
       "      <td>1</td>\n",
       "      <td>3</td>\n",
       "      <td>Sandstrom, Miss. Marguerite Rut</td>\n",
       "      <td>female</td>\n",
       "      <td>4.0</td>\n",
       "      <td>1</td>\n",
       "      <td>1</td>\n",
       "      <td>PP 9549</td>\n",
       "      <td>16.7000</td>\n",
       "      <td>G6</td>\n",
       "      <td>S</td>\n",
       "    </tr>\n",
       "    <tr>\n",
       "      <th>11</th>\n",
       "      <td>12</td>\n",
       "      <td>1</td>\n",
       "      <td>1</td>\n",
       "      <td>Bonnell, Miss. Elizabeth</td>\n",
       "      <td>female</td>\n",
       "      <td>58.0</td>\n",
       "      <td>0</td>\n",
       "      <td>0</td>\n",
       "      <td>113783</td>\n",
       "      <td>26.5500</td>\n",
       "      <td>C103</td>\n",
       "      <td>S</td>\n",
       "    </tr>\n",
       "  </tbody>\n",
       "</table>\n",
       "</div>"
      ],
      "text/plain": [
       "    PassengerId  Survived  Pclass  \\\n",
       "1             2         1       1   \n",
       "3             4         1       1   \n",
       "6             7         0       1   \n",
       "10           11         1       3   \n",
       "11           12         1       1   \n",
       "\n",
       "                                                 Name     Sex   Age  SibSp  \\\n",
       "1   Cumings, Mrs. John Bradley (Florence Briggs Th...  female  38.0      1   \n",
       "3        Futrelle, Mrs. Jacques Heath (Lily May Peel)  female  35.0      1   \n",
       "6                             McCarthy, Mr. Timothy J    male  54.0      0   \n",
       "10                    Sandstrom, Miss. Marguerite Rut  female   4.0      1   \n",
       "11                           Bonnell, Miss. Elizabeth  female  58.0      0   \n",
       "\n",
       "    Parch    Ticket     Fare Cabin Embarked  \n",
       "1       0  PC 17599  71.2833   C85        C  \n",
       "3       0    113803  53.1000  C123        S  \n",
       "6       0     17463  51.8625   E46        S  \n",
       "10      1   PP 9549  16.7000    G6        S  \n",
       "11      0    113783  26.5500  C103        S  "
      ]
     },
     "execution_count": 2,
     "metadata": {},
     "output_type": "execute_result"
    }
   ],
   "source": [
    "df_titanic = pd.read_csv('train.csv', sep=',').dropna()\n",
    "df_titanic.head()"
   ]
  },
  {
   "cell_type": "markdown",
   "metadata": {},
   "source": [
    "## Бинарные признаки\n",
    "Это признаки с двумя возможными значениями\n",
    "* Пол (мужской, женский)\n",
    "* Выжил (да, нет)\n",
    "\n",
    "На вход в алгоритмы обычно подаются в виде значений `{0, 1}` (реже в виде `{-1, 1}`)"
   ]
  },
  {
   "cell_type": "code",
   "execution_count": 3,
   "metadata": {
    "collapsed": false
   },
   "outputs": [
    {
     "data": {
      "text/plain": [
       "1    123\n",
       "0     60\n",
       "Name: Survived, dtype: int64"
      ]
     },
     "execution_count": 3,
     "metadata": {},
     "output_type": "execute_result"
    }
   ],
   "source": [
    "# Здесь все нормально\n",
    "df_titanic.Survived.value_counts()"
   ]
  },
  {
   "cell_type": "code",
   "execution_count": 4,
   "metadata": {
    "collapsed": false
   },
   "outputs": [
    {
     "data": {
      "text/plain": [
       "male      95\n",
       "female    88\n",
       "Name: Sex, dtype: int64"
      ]
     },
     "execution_count": 4,
     "metadata": {},
     "output_type": "execute_result"
    }
   ],
   "source": [
    "# Тут стоит выполнить переобознаение\n",
    "df_titanic.Sex.value_counts()"
   ]
  },
  {
   "cell_type": "code",
   "execution_count": 5,
   "metadata": {
    "collapsed": false
   },
   "outputs": [
    {
     "data": {
      "text/plain": [
       "1    95\n",
       "0    88\n",
       "Name: Sex, dtype: int64"
      ]
     },
     "execution_count": 5,
     "metadata": {},
     "output_type": "execute_result"
    }
   ],
   "source": [
    "# Например так\n",
    "df_titanic.Sex = df_titanic.Sex.replace({'male': 1, 'female': 0})\n",
    "df_titanic.Sex.value_counts()"
   ]
  },
  {
   "cell_type": "markdown",
   "metadata": {},
   "source": [
    "## Вещественные признаки\n",
    "\n",
    "* Возраст\n",
    "* Сумма, потраченная на билет\n",
    "* Количество родственников на борту\n",
    "\n",
    "Как правило остаются в том же виде или выполняется **нормализация** признаков, т.е. переход к одинаковой шкале, например:\n",
    "\n",
    "* $\\tilde{x} = \\frac{x - \\text{mean}(x)}{\\text{std}(x)}$\n",
    "* $\\tilde{x} = \\frac{x - \\text{min}(x)}{\\text{max}(x) - \\text{min}(x)}$"
   ]
  },
  {
   "cell_type": "markdown",
   "metadata": {},
   "source": [
    "## Категориальные признаки\n",
    "\n",
    "Принимают значения из *неупорядоченного* множества\n",
    "\n",
    "* Порт погрузки (C = Cherbourg; Q = Queenstown; S = Southampton)\n",
    "* Точка отправления (St Louis, MO; Montreal, PQ; .. }\n",
    "* Точка назначения (Chesterville, ON; Roseville, IL; .. }\n",
    "\n",
    "Обычно такие признаки кодируют с помощью так называемого One Hot Encoding: </br>\n",
    "для каждой категории создается бинарная маска-столбец, в которой стоит `1` если значение признака равно значению соответствующей категории категории.\n",
    "\n",
    "Например, для признака \"порт погрзки\" создается бинарная макска из трех стобцов для каждого из портов: С, Q, S<br/>\n",
    "Если пассажир заходил на кораблю в порту Southampton, то его признаковое описание будет соответственно: `[0, 0, 1]`"
   ]
  },
  {
   "cell_type": "code",
   "execution_count": 6,
   "metadata": {
    "collapsed": false
   },
   "outputs": [
    {
     "data": {
      "text/plain": [
       "1     C\n",
       "3     S\n",
       "6     S\n",
       "10    S\n",
       "11    S\n",
       "Name: Embarked, dtype: object"
      ]
     },
     "execution_count": 6,
     "metadata": {},
     "output_type": "execute_result"
    }
   ],
   "source": [
    "df_titanic.Embarked.head()"
   ]
  },
  {
   "cell_type": "code",
   "execution_count": 7,
   "metadata": {
    "collapsed": false
   },
   "outputs": [
    {
     "data": {
      "text/html": [
       "<div>\n",
       "<table border=\"1\" class=\"dataframe\">\n",
       "  <thead>\n",
       "    <tr style=\"text-align: right;\">\n",
       "      <th></th>\n",
       "      <th>Embarked=C</th>\n",
       "      <th>Embarked=Q</th>\n",
       "      <th>Embarked=S</th>\n",
       "    </tr>\n",
       "  </thead>\n",
       "  <tbody>\n",
       "    <tr>\n",
       "      <th>1</th>\n",
       "      <td>1</td>\n",
       "      <td>0</td>\n",
       "      <td>0</td>\n",
       "    </tr>\n",
       "    <tr>\n",
       "      <th>3</th>\n",
       "      <td>0</td>\n",
       "      <td>0</td>\n",
       "      <td>1</td>\n",
       "    </tr>\n",
       "    <tr>\n",
       "      <th>6</th>\n",
       "      <td>0</td>\n",
       "      <td>0</td>\n",
       "      <td>1</td>\n",
       "    </tr>\n",
       "    <tr>\n",
       "      <th>10</th>\n",
       "      <td>0</td>\n",
       "      <td>0</td>\n",
       "      <td>1</td>\n",
       "    </tr>\n",
       "    <tr>\n",
       "      <th>11</th>\n",
       "      <td>0</td>\n",
       "      <td>0</td>\n",
       "      <td>1</td>\n",
       "    </tr>\n",
       "  </tbody>\n",
       "</table>\n",
       "</div>"
      ],
      "text/plain": [
       "    Embarked=C  Embarked=Q  Embarked=S\n",
       "1            1           0           0\n",
       "3            0           0           1\n",
       "6            0           0           1\n",
       "10           0           0           1\n",
       "11           0           0           1"
      ]
     },
     "execution_count": 7,
     "metadata": {},
     "output_type": "execute_result"
    }
   ],
   "source": [
    "# Сделать в python это можно несколькими способами:\n",
    "\n",
    "# 1: Через pandas (не очень рекомендуется)\n",
    "emb = pd.get_dummies(df_titanic.Embarked, prefix='Embarked', prefix_sep='=')\n",
    "emb.head()"
   ]
  },
  {
   "cell_type": "code",
   "execution_count": 8,
   "metadata": {
    "collapsed": false
   },
   "outputs": [
    {
     "data": {
      "text/plain": [
       "array([[ 1.,  0.,  0.],\n",
       "       [ 0.,  0.,  1.],\n",
       "       [ 0.,  0.,  1.],\n",
       "       [ 0.,  0.,  1.],\n",
       "       [ 0.,  0.,  1.]])"
      ]
     },
     "execution_count": 8,
     "metadata": {},
     "output_type": "execute_result"
    }
   ],
   "source": [
    "# 2: Функционал sklearn\n",
    "from sklearn.preprocessing import OneHotEncoder\n",
    "\n",
    "encoder = OneHotEncoder(sparse=False)\n",
    "\n",
    "emb = df_titanic.loc[:, ['Embarked']].replace({'C': 0, 'Q': 1, 'S': 2}).values\n",
    "emb_enc = encoder.fit_transform(emb)\n",
    "emb_enc[:5]"
   ]
  },
  {
   "cell_type": "markdown",
   "metadata": {},
   "source": [
    "Про другием способы работы с категориальными переменными можно прочитать вот [тут](https://alexanderdyakonov.wordpress.com/2016/08/03/python-%D0%BA%D0%B0%D1%82%D0%B5%D0%B3%D0%BE%D1%80%D0%B8%D0%B0%D0%BB%D1%8C%D0%BD%D1%8B%D0%B5-%D0%BF%D1%80%D0%B8%D0%B7%D0%BD%D0%B0%D0%BA%D0%B8/)"
   ]
  },
  {
   "cell_type": "markdown",
   "metadata": {},
   "source": [
    "## Порядковый признаки"
   ]
  },
  {
   "cell_type": "markdown",
   "metadata": {},
   "source": [
    "Принимают значения из *упорядоченного* множества\n",
    "\n",
    "* Класс каюты (1 > 2 > 3)\n",
    "\n",
    "В зависимости от метода остаются можно оставить в исходном виде или применить OneHotEncoding."
   ]
  },
  {
   "cell_type": "markdown",
   "metadata": {},
   "source": [
    "## Текстовые признаки - Bag of words"
   ]
  },
  {
   "cell_type": "markdown",
   "metadata": {},
   "source": [
    "Для демонстрации возьмем текст стихотворения Блока:\n",
    "\n",
    "Ночь, улица, фонарь, аптека,<br/>\n",
    "Бессмысленный и тусклый свет.<br/>\n",
    "Живи еще хоть четверть века -<br/>\n",
    "Все будет так. Исхода нет.<br/>\n",
    "\n",
    "Умрешь - начнешь опять сначала<br/>\n",
    "И повторится все, как встарь:<br/>\n",
    "Ночь, ледяная рябь канала,<br/>\n",
    "Аптека, улица, фонарь.<br/>\n",
    "\n",
    "Пусть каждая строчка - это будет условный документ. Переведем эти документы в числовое представление по методу мешка слов (Bag Of Words)"
   ]
  },
  {
   "cell_type": "code",
   "execution_count": 9,
   "metadata": {
    "collapsed": false
   },
   "outputs": [],
   "source": [
    "from sklearn.feature_extraction.text import CountVectorizer\n",
    "from sklearn.feature_extraction.text import TfidfVectorizer\n",
    "\n",
    "corpus = \\\n",
    "[u'Ночь, улица, фонарь, аптека,',\n",
    " u'Бессмысленный и тусклый свет.',\n",
    " u'Живи еще хоть четверть века -',\n",
    " u'Все будет так. Исхода нет.',\n",
    " u'Умрешь - начнешь опять сначала',\n",
    " u'И повторится все, как встарь:',\n",
    " u'Ночь, ледяная рябь канала,',\n",
    " u'Аптека, улица, фонарь.']"
   ]
  },
  {
   "cell_type": "code",
   "execution_count": 10,
   "metadata": {
    "collapsed": false
   },
   "outputs": [
    {
     "data": {
      "text/plain": [
       "(8L, 27L)"
      ]
     },
     "execution_count": 10,
     "metadata": {},
     "output_type": "execute_result"
    }
   ],
   "source": [
    "vect = CountVectorizer()\n",
    "\n",
    "bow = vect.fit_transform(corpus)\n",
    "bow = bow.toarray()\n",
    "bow.shape"
   ]
  },
  {
   "cell_type": "markdown",
   "metadata": {},
   "source": [
    "Получили матрицу размера $8 \\times 27$, так как у нас 8 строчек и выделилось 27 униальных слов. Элемент матрицы показывает сколько раз слово встречалось в соответствующем документе."
   ]
  },
  {
   "cell_type": "code",
   "execution_count": 11,
   "metadata": {
    "collapsed": false
   },
   "outputs": [
    {
     "data": {
      "text/plain": [
       "array([[1, 0, 0, 0, 0, 0, 0, 0, 0, 0, 0, 0, 0, 0, 1, 0, 0, 0, 0, 0, 0, 0,\n",
       "        1, 0, 1, 0, 0],\n",
       "       [0, 1, 0, 0, 0, 0, 0, 0, 0, 0, 0, 0, 0, 0, 0, 0, 0, 0, 1, 0, 0, 1,\n",
       "        0, 0, 0, 0, 0],\n",
       "       [0, 0, 0, 1, 0, 0, 1, 1, 0, 0, 0, 0, 0, 0, 0, 0, 0, 0, 0, 0, 0, 0,\n",
       "        0, 0, 0, 1, 1],\n",
       "       [0, 0, 1, 0, 1, 0, 0, 0, 1, 0, 0, 0, 0, 1, 0, 0, 0, 0, 0, 0, 1, 0,\n",
       "        0, 0, 0, 0, 0],\n",
       "       [0, 0, 0, 0, 0, 0, 0, 0, 0, 0, 0, 0, 1, 0, 0, 1, 0, 0, 0, 1, 0, 0,\n",
       "        0, 1, 0, 0, 0],\n",
       "       [0, 0, 0, 0, 1, 1, 0, 0, 0, 1, 0, 0, 0, 0, 0, 0, 1, 0, 0, 0, 0, 0,\n",
       "        0, 0, 0, 0, 0],\n",
       "       [0, 0, 0, 0, 0, 0, 0, 0, 0, 0, 1, 1, 0, 0, 1, 0, 0, 1, 0, 0, 0, 0,\n",
       "        0, 0, 0, 0, 0],\n",
       "       [1, 0, 0, 0, 0, 0, 0, 0, 0, 0, 0, 0, 0, 0, 0, 0, 0, 0, 0, 0, 0, 0,\n",
       "        1, 0, 1, 0, 0]], dtype=int64)"
      ]
     },
     "execution_count": 11,
     "metadata": {},
     "output_type": "execute_result"
    }
   ],
   "source": [
    "bow"
   ]
  },
  {
   "cell_type": "code",
   "execution_count": 12,
   "metadata": {
    "collapsed": false
   },
   "outputs": [
    {
     "name": "stdout",
     "output_type": "stream",
     "text": [
      "столбец 0: аптека\n",
      "столбец 1: бессмысленный\n",
      "столбец 2: будет\n",
      "столбец 3: века\n",
      "столбец 4: все\n",
      "столбец 5: встарь\n",
      "столбец 6: еще\n",
      "столбец 7: живи\n",
      "столбец 8: исхода\n",
      "столбец 9: как\n",
      "столбец 10: канала\n",
      "столбец 11: ледяная\n",
      "столбец 12: начнешь\n",
      "столбец 13: нет\n",
      "столбец 14: ночь\n",
      "столбец 15: опять\n",
      "столбец 16: повторится\n",
      "столбец 17: рябь\n",
      "столбец 18: свет\n",
      "столбец 19: сначала\n",
      "столбец 20: так\n",
      "столбец 21: тусклый\n",
      "столбец 22: улица\n",
      "столбец 23: умрешь\n",
      "столбец 24: фонарь\n",
      "столбец 25: хоть\n",
      "столбец 26: четверть\n"
     ]
    }
   ],
   "source": [
    "# Посмотрим какие слова стоят по столбцам\n",
    "for i, w in enumerate(vect.get_feature_names()):\n",
    "    print u'столбец %d: %s' % (i, w)"
   ]
  },
  {
   "cell_type": "markdown",
   "metadata": {},
   "source": [
    "# Туториал: Имплементация собственного метода"
   ]
  },
  {
   "cell_type": "markdown",
   "metadata": {},
   "source": [
    "Для решения задач вида \"имплементируйте метод X\" крайне желательно (но необязательно) реализовывать методы с помощью интерфейса sklearn. Ниже вы увидите пример очень простого **классификатора**. Используйте эти наработи для выполнения задания."
   ]
  },
  {
   "cell_type": "markdown",
   "metadata": {},
   "source": [
    "Загрузите [датасет](https://archive.ics.uci.edu/ml/machine-learning-databases/wine-quality/winequality-red.csv) с информацией о характеристиках вина и его качестве. (В метод `pd.read_csv()` можно подать веб-ссылку на данные и пандас их скачает и преобразует в `DataFrame`)."
   ]
  },
  {
   "cell_type": "code",
   "execution_count": 13,
   "metadata": {
    "collapsed": false
   },
   "outputs": [],
   "source": [
    "df_wine = pd.read_csv('https://archive.ics.uci.edu/ml/machine-learning-databases/wine-quality/winequality-red.csv', sep=';')"
   ]
  },
  {
   "cell_type": "code",
   "execution_count": 14,
   "metadata": {
    "collapsed": false
   },
   "outputs": [
    {
     "data": {
      "text/html": [
       "<div>\n",
       "<table border=\"1\" class=\"dataframe\">\n",
       "  <thead>\n",
       "    <tr style=\"text-align: right;\">\n",
       "      <th></th>\n",
       "      <th>fixed acidity</th>\n",
       "      <th>volatile acidity</th>\n",
       "      <th>citric acid</th>\n",
       "      <th>residual sugar</th>\n",
       "      <th>chlorides</th>\n",
       "      <th>free sulfur dioxide</th>\n",
       "      <th>total sulfur dioxide</th>\n",
       "      <th>density</th>\n",
       "      <th>pH</th>\n",
       "      <th>sulphates</th>\n",
       "      <th>alcohol</th>\n",
       "      <th>quality</th>\n",
       "    </tr>\n",
       "  </thead>\n",
       "  <tbody>\n",
       "    <tr>\n",
       "      <th>0</th>\n",
       "      <td>7.4</td>\n",
       "      <td>0.70</td>\n",
       "      <td>0.00</td>\n",
       "      <td>1.9</td>\n",
       "      <td>0.076</td>\n",
       "      <td>11.0</td>\n",
       "      <td>34.0</td>\n",
       "      <td>0.9978</td>\n",
       "      <td>3.51</td>\n",
       "      <td>0.56</td>\n",
       "      <td>9.4</td>\n",
       "      <td>5</td>\n",
       "    </tr>\n",
       "    <tr>\n",
       "      <th>1</th>\n",
       "      <td>7.8</td>\n",
       "      <td>0.88</td>\n",
       "      <td>0.00</td>\n",
       "      <td>2.6</td>\n",
       "      <td>0.098</td>\n",
       "      <td>25.0</td>\n",
       "      <td>67.0</td>\n",
       "      <td>0.9968</td>\n",
       "      <td>3.20</td>\n",
       "      <td>0.68</td>\n",
       "      <td>9.8</td>\n",
       "      <td>5</td>\n",
       "    </tr>\n",
       "    <tr>\n",
       "      <th>2</th>\n",
       "      <td>7.8</td>\n",
       "      <td>0.76</td>\n",
       "      <td>0.04</td>\n",
       "      <td>2.3</td>\n",
       "      <td>0.092</td>\n",
       "      <td>15.0</td>\n",
       "      <td>54.0</td>\n",
       "      <td>0.9970</td>\n",
       "      <td>3.26</td>\n",
       "      <td>0.65</td>\n",
       "      <td>9.8</td>\n",
       "      <td>5</td>\n",
       "    </tr>\n",
       "    <tr>\n",
       "      <th>3</th>\n",
       "      <td>11.2</td>\n",
       "      <td>0.28</td>\n",
       "      <td>0.56</td>\n",
       "      <td>1.9</td>\n",
       "      <td>0.075</td>\n",
       "      <td>17.0</td>\n",
       "      <td>60.0</td>\n",
       "      <td>0.9980</td>\n",
       "      <td>3.16</td>\n",
       "      <td>0.58</td>\n",
       "      <td>9.8</td>\n",
       "      <td>6</td>\n",
       "    </tr>\n",
       "    <tr>\n",
       "      <th>4</th>\n",
       "      <td>7.4</td>\n",
       "      <td>0.70</td>\n",
       "      <td>0.00</td>\n",
       "      <td>1.9</td>\n",
       "      <td>0.076</td>\n",
       "      <td>11.0</td>\n",
       "      <td>34.0</td>\n",
       "      <td>0.9978</td>\n",
       "      <td>3.51</td>\n",
       "      <td>0.56</td>\n",
       "      <td>9.4</td>\n",
       "      <td>5</td>\n",
       "    </tr>\n",
       "  </tbody>\n",
       "</table>\n",
       "</div>"
      ],
      "text/plain": [
       "   fixed acidity  volatile acidity  citric acid  residual sugar  chlorides  \\\n",
       "0            7.4              0.70         0.00             1.9      0.076   \n",
       "1            7.8              0.88         0.00             2.6      0.098   \n",
       "2            7.8              0.76         0.04             2.3      0.092   \n",
       "3           11.2              0.28         0.56             1.9      0.075   \n",
       "4            7.4              0.70         0.00             1.9      0.076   \n",
       "\n",
       "   free sulfur dioxide  total sulfur dioxide  density    pH  sulphates  \\\n",
       "0                 11.0                  34.0   0.9978  3.51       0.56   \n",
       "1                 25.0                  67.0   0.9968  3.20       0.68   \n",
       "2                 15.0                  54.0   0.9970  3.26       0.65   \n",
       "3                 17.0                  60.0   0.9980  3.16       0.58   \n",
       "4                 11.0                  34.0   0.9978  3.51       0.56   \n",
       "\n",
       "   alcohol  quality  \n",
       "0      9.4        5  \n",
       "1      9.8        5  \n",
       "2      9.8        5  \n",
       "3      9.8        6  \n",
       "4      9.4        5  "
      ]
     },
     "execution_count": 14,
     "metadata": {},
     "output_type": "execute_result"
    }
   ],
   "source": [
    "df_wine.head()"
   ]
  },
  {
   "cell_type": "markdown",
   "metadata": {},
   "source": [
    "Наша задача состоит в предсказании целевого признака `quality` по остальным признакам. `quality` - это вещественная переменная (оценка качества от 0 до 10). Упростим себе задачу - создадим новый столбец `quality_cat` по следующим правилам:\n",
    "\n",
    "* `quality_cat = 1` если `quality > 5` \n",
    "* `quality_cat = 0` - иначе \n",
    "\n",
    "Таким образом, `quality_cat` характерует \"плохое\" и \"хорошее\" вино."
   ]
  },
  {
   "cell_type": "code",
   "execution_count": 15,
   "metadata": {
    "collapsed": false
   },
   "outputs": [],
   "source": [
    "def prepocess_wine(df):\n",
    "    df.loc[:, 'quality_cat'] = (df.loc[:, 'quality'] > 5).astype(int)\n",
    "    df = df.drop('quality', axis=1)\n",
    "    \n",
    "    return df"
   ]
  },
  {
   "cell_type": "code",
   "execution_count": 16,
   "metadata": {
    "collapsed": false
   },
   "outputs": [
    {
     "data": {
      "text/html": [
       "<div>\n",
       "<table border=\"1\" class=\"dataframe\">\n",
       "  <thead>\n",
       "    <tr style=\"text-align: right;\">\n",
       "      <th></th>\n",
       "      <th>fixed acidity</th>\n",
       "      <th>volatile acidity</th>\n",
       "      <th>citric acid</th>\n",
       "      <th>residual sugar</th>\n",
       "      <th>chlorides</th>\n",
       "      <th>free sulfur dioxide</th>\n",
       "      <th>total sulfur dioxide</th>\n",
       "      <th>density</th>\n",
       "      <th>pH</th>\n",
       "      <th>sulphates</th>\n",
       "      <th>alcohol</th>\n",
       "      <th>quality_cat</th>\n",
       "    </tr>\n",
       "  </thead>\n",
       "  <tbody>\n",
       "    <tr>\n",
       "      <th>0</th>\n",
       "      <td>7.4</td>\n",
       "      <td>0.70</td>\n",
       "      <td>0.00</td>\n",
       "      <td>1.9</td>\n",
       "      <td>0.076</td>\n",
       "      <td>11.0</td>\n",
       "      <td>34.0</td>\n",
       "      <td>0.9978</td>\n",
       "      <td>3.51</td>\n",
       "      <td>0.56</td>\n",
       "      <td>9.4</td>\n",
       "      <td>0</td>\n",
       "    </tr>\n",
       "    <tr>\n",
       "      <th>1</th>\n",
       "      <td>7.8</td>\n",
       "      <td>0.88</td>\n",
       "      <td>0.00</td>\n",
       "      <td>2.6</td>\n",
       "      <td>0.098</td>\n",
       "      <td>25.0</td>\n",
       "      <td>67.0</td>\n",
       "      <td>0.9968</td>\n",
       "      <td>3.20</td>\n",
       "      <td>0.68</td>\n",
       "      <td>9.8</td>\n",
       "      <td>0</td>\n",
       "    </tr>\n",
       "    <tr>\n",
       "      <th>2</th>\n",
       "      <td>7.8</td>\n",
       "      <td>0.76</td>\n",
       "      <td>0.04</td>\n",
       "      <td>2.3</td>\n",
       "      <td>0.092</td>\n",
       "      <td>15.0</td>\n",
       "      <td>54.0</td>\n",
       "      <td>0.9970</td>\n",
       "      <td>3.26</td>\n",
       "      <td>0.65</td>\n",
       "      <td>9.8</td>\n",
       "      <td>0</td>\n",
       "    </tr>\n",
       "    <tr>\n",
       "      <th>3</th>\n",
       "      <td>11.2</td>\n",
       "      <td>0.28</td>\n",
       "      <td>0.56</td>\n",
       "      <td>1.9</td>\n",
       "      <td>0.075</td>\n",
       "      <td>17.0</td>\n",
       "      <td>60.0</td>\n",
       "      <td>0.9980</td>\n",
       "      <td>3.16</td>\n",
       "      <td>0.58</td>\n",
       "      <td>9.8</td>\n",
       "      <td>1</td>\n",
       "    </tr>\n",
       "    <tr>\n",
       "      <th>4</th>\n",
       "      <td>7.4</td>\n",
       "      <td>0.70</td>\n",
       "      <td>0.00</td>\n",
       "      <td>1.9</td>\n",
       "      <td>0.076</td>\n",
       "      <td>11.0</td>\n",
       "      <td>34.0</td>\n",
       "      <td>0.9978</td>\n",
       "      <td>3.51</td>\n",
       "      <td>0.56</td>\n",
       "      <td>9.4</td>\n",
       "      <td>0</td>\n",
       "    </tr>\n",
       "  </tbody>\n",
       "</table>\n",
       "</div>"
      ],
      "text/plain": [
       "   fixed acidity  volatile acidity  citric acid  residual sugar  chlorides  \\\n",
       "0            7.4              0.70         0.00             1.9      0.076   \n",
       "1            7.8              0.88         0.00             2.6      0.098   \n",
       "2            7.8              0.76         0.04             2.3      0.092   \n",
       "3           11.2              0.28         0.56             1.9      0.075   \n",
       "4            7.4              0.70         0.00             1.9      0.076   \n",
       "\n",
       "   free sulfur dioxide  total sulfur dioxide  density    pH  sulphates  \\\n",
       "0                 11.0                  34.0   0.9978  3.51       0.56   \n",
       "1                 25.0                  67.0   0.9968  3.20       0.68   \n",
       "2                 15.0                  54.0   0.9970  3.26       0.65   \n",
       "3                 17.0                  60.0   0.9980  3.16       0.58   \n",
       "4                 11.0                  34.0   0.9978  3.51       0.56   \n",
       "\n",
       "   alcohol  quality_cat  \n",
       "0      9.4            0  \n",
       "1      9.8            0  \n",
       "2      9.8            0  \n",
       "3      9.8            1  \n",
       "4      9.4            0  "
      ]
     },
     "execution_count": 16,
     "metadata": {},
     "output_type": "execute_result"
    }
   ],
   "source": [
    "df_wine = df_wine.pipe(prepocess_wine)\n",
    "df_wine.head()"
   ]
  },
  {
   "cell_type": "markdown",
   "metadata": {},
   "source": [
    "Нарисуем распределение хорошего и плохого вина по признаку `alcohol`."
   ]
  },
  {
   "cell_type": "code",
   "execution_count": 17,
   "metadata": {
    "collapsed": false
   },
   "outputs": [
    {
     "data": {
      "text/plain": [
       "<matplotlib.legend.Legend at 0xa569ac8>"
      ]
     },
     "execution_count": 17,
     "metadata": {},
     "output_type": "execute_result"
    },
    {
     "data": {
      "image/png": "[encoded data removed]",
      "text/plain": [
       "<matplotlib.figure.Figure at 0xc330668>"
      ]
     },
     "metadata": {},
     "output_type": "display_data"
    }
   ],
   "source": [
    "_, ax = plt.subplots(1,1)\n",
    "df_wine.query('quality_cat == 1').hist('alcohol', alpha=0.3, bins=20, label='good', ax=ax)\n",
    "df_wine.query('quality_cat == 0').hist('alcohol', alpha=0.3, bins=20, label='bad', ax=ax)\n",
    "ax.set_xlabel('alcohol')\n",
    "ax.set_ylabel('count')\n",
    "plt.legend()"
   ]
  },
  {
   "cell_type": "markdown",
   "metadata": {},
   "source": [
    "Визуально кажется, что можно найти некоторое пороговое значение признака `alcohol` $\\theta$, чтобы хорошо дискриминировать между плохими и хорошим вином:\n",
    "* Если `alcohol >` $\\theta$ - то предсказываем, что вино хорошее\n",
    "* Если `alcohol <=` $\\theta$ - то предсказываем, что вино плохое\n",
    "\n",
    "Обучаеть классификатор будем очень просто: перебирать значения признака alchol и считать **ошибку** классификации. То значение, где ошибка минимальна и будет оптимальным.\n",
    "\n",
    "Разделим целевой признак от остальных признаков"
   ]
  },
  {
   "cell_type": "code",
   "execution_count": 18,
   "metadata": {
    "collapsed": false
   },
   "outputs": [],
   "source": [
    "X, y = df_wine.iloc[:, :-1].values, df_wine.iloc[:, -1].values"
   ]
  },
  {
   "cell_type": "markdown",
   "metadata": {},
   "source": [
    "Далее вы увидете пример реализации этого простого классификатора."
   ]
  },
  {
   "cell_type": "code",
   "execution_count": 19,
   "metadata": {
    "collapsed": true
   },
   "outputs": [],
   "source": [
    "from sklearn.base import BaseEstimator, ClassifierMixin\n",
    "\n",
    "class SimpleClassifier(BaseEstimator, ClassifierMixin): \n",
    "    \n",
    "    def __init__(self):\n",
    "        \"\"\"\n",
    "        Инициализация метода\n",
    "        \"\"\"\n",
    "        \n",
    "        self.threshold = 0\n",
    "\n",
    "    def fit(self, X, y=None):\n",
    "        \"\"\"\n",
    "        Выполняет процедуру обучения классификатора. В данном случае - перебор занчения признака alcohol.\n",
    "        Договоримся, что признак alcohol будет в последнем столбце матрицы X\n",
    "        \"\"\"\n",
    "        \n",
    "        alcohol = X[:,-1]\n",
    "        n = float(y.shape[0])\n",
    "        \n",
    "        # Задаем пространство поиска\n",
    "        alco_range = np.arange(alcohol.min(), alcohol.max(), 0.1)\n",
    "        \n",
    "        min_error_rate = 1\n",
    "                \n",
    "        #  Начинаем поиск\n",
    "        for theta in alco_range:\n",
    "            prediction = alcohol > theta\n",
    "            \n",
    "            error_rate = sum(prediction != y)/n\n",
    "            \n",
    "            if error_rate < min_error_rate:\n",
    "                min_error_rate = error_rate\n",
    "                self.threshold = theta  \n",
    "        \n",
    "        return self\n",
    "\n",
    "    def predict(self, X, y=None):\n",
    "        \"\"\"\n",
    "        Процедура предсказания класса по обученному порогу\n",
    "        \"\"\"\n",
    "        \n",
    "        return (X[:,-1] > self.threshold).astype(int)"
   ]
  },
  {
   "cell_type": "markdown",
   "metadata": {},
   "source": [
    "Обучаем модель"
   ]
  },
  {
   "cell_type": "code",
   "execution_count": 20,
   "metadata": {
    "collapsed": false
   },
   "outputs": [
    {
     "name": "stdout",
     "output_type": "stream",
     "text": [
      "Оптимальный порог: 10.000000\n"
     ]
    }
   ],
   "source": [
    "model = SimpleClassifier()\n",
    "model.fit(X, y)\n",
    "\n",
    "print 'Оптимальный порог: %f' % model.threshold"
   ]
  },
  {
   "cell_type": "markdown",
   "metadata": {},
   "source": [
    "Получаем предсказание модели (на обучающей выборке)"
   ]
  },
  {
   "cell_type": "code",
   "execution_count": 21,
   "metadata": {
    "collapsed": true
   },
   "outputs": [],
   "source": [
    "y_hat = model.predict(X)"
   ]
  },
  {
   "cell_type": "markdown",
   "metadata": {},
   "source": [
    "Оценим долю ошибок на обучающей выборке"
   ]
  },
  {
   "cell_type": "code",
   "execution_count": 22,
   "metadata": {
    "collapsed": false
   },
   "outputs": [
    {
     "name": "stdout",
     "output_type": "stream",
     "text": [
      "Доля ошибок на обучающей выборке: 0.295184\n"
     ]
    }
   ],
   "source": [
    "error_rate = sum(y_hat != y)/float(y.shape[0])\n",
    "print 'Доля ошибок на обучающей выборке: %f' % error_rate"
   ]
  },
  {
   "cell_type": "markdown",
   "metadata": {},
   "source": [
    "## Проверка метода на контрольной выборке\n",
    "\n",
    "Мы обучили наш метод на данных о красном виде. \n",
    "\n",
    "Посмотрим, выполняется ли так же хорошо закономерность между качеством и уровнем алкоголя в белом вине."
   ]
  },
  {
   "cell_type": "code",
   "execution_count": 23,
   "metadata": {
    "collapsed": false
   },
   "outputs": [
    {
     "data": {
      "text/html": [
       "<div>\n",
       "<table border=\"1\" class=\"dataframe\">\n",
       "  <thead>\n",
       "    <tr style=\"text-align: right;\">\n",
       "      <th></th>\n",
       "      <th>fixed acidity</th>\n",
       "      <th>volatile acidity</th>\n",
       "      <th>citric acid</th>\n",
       "      <th>residual sugar</th>\n",
       "      <th>chlorides</th>\n",
       "      <th>free sulfur dioxide</th>\n",
       "      <th>total sulfur dioxide</th>\n",
       "      <th>density</th>\n",
       "      <th>pH</th>\n",
       "      <th>sulphates</th>\n",
       "      <th>alcohol</th>\n",
       "      <th>quality_cat</th>\n",
       "    </tr>\n",
       "  </thead>\n",
       "  <tbody>\n",
       "    <tr>\n",
       "      <th>0</th>\n",
       "      <td>7.0</td>\n",
       "      <td>0.27</td>\n",
       "      <td>0.36</td>\n",
       "      <td>20.7</td>\n",
       "      <td>0.045</td>\n",
       "      <td>45.0</td>\n",
       "      <td>170.0</td>\n",
       "      <td>1.0010</td>\n",
       "      <td>3.00</td>\n",
       "      <td>0.45</td>\n",
       "      <td>8.8</td>\n",
       "      <td>1</td>\n",
       "    </tr>\n",
       "    <tr>\n",
       "      <th>1</th>\n",
       "      <td>6.3</td>\n",
       "      <td>0.30</td>\n",
       "      <td>0.34</td>\n",
       "      <td>1.6</td>\n",
       "      <td>0.049</td>\n",
       "      <td>14.0</td>\n",
       "      <td>132.0</td>\n",
       "      <td>0.9940</td>\n",
       "      <td>3.30</td>\n",
       "      <td>0.49</td>\n",
       "      <td>9.5</td>\n",
       "      <td>1</td>\n",
       "    </tr>\n",
       "    <tr>\n",
       "      <th>2</th>\n",
       "      <td>8.1</td>\n",
       "      <td>0.28</td>\n",
       "      <td>0.40</td>\n",
       "      <td>6.9</td>\n",
       "      <td>0.050</td>\n",
       "      <td>30.0</td>\n",
       "      <td>97.0</td>\n",
       "      <td>0.9951</td>\n",
       "      <td>3.26</td>\n",
       "      <td>0.44</td>\n",
       "      <td>10.1</td>\n",
       "      <td>1</td>\n",
       "    </tr>\n",
       "    <tr>\n",
       "      <th>3</th>\n",
       "      <td>7.2</td>\n",
       "      <td>0.23</td>\n",
       "      <td>0.32</td>\n",
       "      <td>8.5</td>\n",
       "      <td>0.058</td>\n",
       "      <td>47.0</td>\n",
       "      <td>186.0</td>\n",
       "      <td>0.9956</td>\n",
       "      <td>3.19</td>\n",
       "      <td>0.40</td>\n",
       "      <td>9.9</td>\n",
       "      <td>1</td>\n",
       "    </tr>\n",
       "    <tr>\n",
       "      <th>4</th>\n",
       "      <td>7.2</td>\n",
       "      <td>0.23</td>\n",
       "      <td>0.32</td>\n",
       "      <td>8.5</td>\n",
       "      <td>0.058</td>\n",
       "      <td>47.0</td>\n",
       "      <td>186.0</td>\n",
       "      <td>0.9956</td>\n",
       "      <td>3.19</td>\n",
       "      <td>0.40</td>\n",
       "      <td>9.9</td>\n",
       "      <td>1</td>\n",
       "    </tr>\n",
       "  </tbody>\n",
       "</table>\n",
       "</div>"
      ],
      "text/plain": [
       "   fixed acidity  volatile acidity  citric acid  residual sugar  chlorides  \\\n",
       "0            7.0              0.27         0.36            20.7      0.045   \n",
       "1            6.3              0.30         0.34             1.6      0.049   \n",
       "2            8.1              0.28         0.40             6.9      0.050   \n",
       "3            7.2              0.23         0.32             8.5      0.058   \n",
       "4            7.2              0.23         0.32             8.5      0.058   \n",
       "\n",
       "   free sulfur dioxide  total sulfur dioxide  density    pH  sulphates  \\\n",
       "0                 45.0                 170.0   1.0010  3.00       0.45   \n",
       "1                 14.0                 132.0   0.9940  3.30       0.49   \n",
       "2                 30.0                  97.0   0.9951  3.26       0.44   \n",
       "3                 47.0                 186.0   0.9956  3.19       0.40   \n",
       "4                 47.0                 186.0   0.9956  3.19       0.40   \n",
       "\n",
       "   alcohol  quality_cat  \n",
       "0      8.8            1  \n",
       "1      9.5            1  \n",
       "2     10.1            1  \n",
       "3      9.9            1  \n",
       "4      9.9            1  "
      ]
     },
     "execution_count": 23,
     "metadata": {},
     "output_type": "execute_result"
    }
   ],
   "source": [
    "df_wine_test = pd.read_csv('https://archive.ics.uci.edu/ml/machine-learning-databases/wine-quality/winequality-white.csv',\n",
    "                           sep=';')\n",
    "\n",
    "df_wine_test = df_wine_test.pipe(prepocess_wine)\n",
    "df_wine_test.head()"
   ]
  },
  {
   "cell_type": "code",
   "execution_count": 24,
   "metadata": {
    "collapsed": false
   },
   "outputs": [],
   "source": [
    "X_test, y_test = df_wine_test.iloc[:, :-1].values, df_wine_test.iloc[:, -1].values\n",
    "y_hat = model.predict(X_test)"
   ]
  },
  {
   "cell_type": "code",
   "execution_count": 25,
   "metadata": {
    "collapsed": false
   },
   "outputs": [
    {
     "name": "stdout",
     "output_type": "stream",
     "text": [
      "Доля ошибок на контрольной выборке: 0.312577\n"
     ]
    }
   ],
   "source": [
    "error_rate = sum(y_hat != y_test)/float(y_test.shape[0])\n",
    "print 'Доля ошибок на контрольной выборке: %f' % error_rate"
   ]
  },
  {
   "cell_type": "markdown",
   "metadata": {},
   "source": [
    "Получилось неплохо и это лишь наивный алгоритм на одном признаке! Ну а выводы делайте сами =)"
   ]
  },
  {
   "cell_type": "markdown",
   "metadata": {},
   "source": [
    "# Имплементация K-means\n",
    "\n",
    "Пользуясь наработками выше, имплементируйте метод k-means.  \n",
    "При инициализации необходимо задавать количество кластеров, функцию расстояния между кластерами (для оригинального k-means - евклидово расстояние) и начальное состояние генератора случайных чисел.\n",
    "\n",
    "После обучения, среди атрибутов класса `Kmeans` должны появится\n",
    "* Метки кластеров для объектов\n",
    "* Координаты центройдов кластеров\n",
    "\n",
    "k-means - это алгоритм **кластеризации**, а не классификации, а посему метод `.predict()` в нем фактически не нужен, но он может возвращать метки ближайшего кластера для объектов."
   ]
  },
  {
   "cell_type": "markdown",
   "metadata": {},
   "source": [
    "###### Задание 1 (2 баллов)\n",
    "Имплементируйте метод k-means\n",
    "\n",
    "Теория для выполнения задания 2 и 3 остаётся на самостоятельное изучение. Теории немного и она совсем простая.\n",
    "\n",
    "###### Задание 2 (2 балла)\n",
    "Имплементируйте класс MiniBatchKMeans, который является классом наследником Kmeans.\n",
    "\n",
    "###### Задание 3 (2 балла)\n",
    "Превратите k-means в k-means++. Для этого нужно реализовать метод в классе Kmeans, который будет инициализировать более \"хорошие\" значения центроидов. Чтобы использовался метод k-means++, в параметр init необходимо передать строковое значение 'k-means' (по умолчанию 'random').\n",
    "\n",
    "###### Задание 4 (2 балла)\n",
    "В пункте \"Проверка корректности метода\" нужно нарисовать графики, которые показывают зависимость времени выполнения алгоритма от количества сэмплов. Графики должны быть  нарисованы для различных комбинаций реализаций алгоритма (k-means, k-means++, k-means с MiniBatchKMeans, k-means++ с MiniBatchKMeans). Для этого рекомендуется использовать инструмент %timeit. График достаточно построить на 5-10 точках.\n",
    "\n",
    "###### Задание 5 (2 балла)\n",
    "В пункте \"Применение K-means на реальных данных\" нужно сравнить различные реализации k-means (k-means, k-means++, k-means с MiniBatchKMeans, k-means++ с MiniBatchKMeans). После чего написать вывод, в котором должно быть объяснение того, почему один алгоритм оказался лучше остальных или почему не было выявлено лучшего алгоритма."
   ]
  },
  {
   "cell_type": "code",
   "execution_count": 109,
   "metadata": {
    "collapsed": false
   },
   "outputs": [],
   "source": [
    "from sklearn.base import ClusterMixin\n",
    "from sklearn.neighbors import DistanceMetric\n",
    "from sklearn.base import BaseEstimator, ClassifierMixin\n",
    "class Kmeans(BaseEstimator, ClusterMixin): \n",
    "    \n",
    "    def __init__(self, k=2, metric='euclidean', max_iter=1000, random_state=None, init='random'):\n",
    "        \"\"\"\n",
    "        Инициализация метода\n",
    "        :k - количество кластеров\n",
    "        :metric - функция расстояния между объектами\n",
    "        :max_iter - максиальное количество итераций\n",
    "        :random_state - seed для инициализации генератора случайных чисел\n",
    "        \"\"\"\n",
    "        \n",
    "        self.k = k\n",
    "        self.random_state = random_state\n",
    "        self.metric = metric\n",
    "        self.max_iter = max_iter\n",
    "        self.init = init\n",
    "    \n",
    "    def init_centroids(self, X):\n",
    "        if self.init == 'k-means':\n",
    "            self.centroids = X[np.random.choice(xrange(X.shape[0]), 1)]\n",
    "            # Массив с центройдами кластеров\n",
    "            for i in xrange(self.k - 1):\n",
    "                dist = DistanceMetric.get_metric(self.metric)\n",
    "                res = dist.pairwise(X, self.centroids)\n",
    "                probs = np.amax(res, axis=1)\n",
    "                self.centroids = np.vstack((self.centroids, X[np.random.choice(xrange(X.shape[0]), 1, p=np.divide(probs, np.sum(probs, axis=0)))]))\n",
    "        else:\n",
    "            self.centroids = X[np.random.choice(xrange(X.shape[0]), self.k)]\n",
    "    \n",
    "    def fit(self, X, y=None):\n",
    "        \"\"\"\n",
    "        Процедура обучения k-means\n",
    "        \"\"\"\n",
    "        \n",
    "        # Инициализация генератора случайных чисел\n",
    "        np.random.seed(self.random_state)\n",
    "        \n",
    "        # Массив с метками кластеров для каждого объекта из X\n",
    "        self.labels = np.empty(X.shape[0])\n",
    "        \n",
    "        # Массив с центройдами кластеров\n",
    "        self.init_centroids(X)\n",
    "        \n",
    "        \n",
    "        for n in xrange(self.max_iter):\n",
    "            dist = DistanceMetric.get_metric(self.metric)\n",
    "            res = dist.pairwise(X, self.centroids)\n",
    "            self.labels = res.argmin(axis=1)\n",
    "            cnts = np.zeros((self.k, 1), dtype='int')\n",
    "            for i in xrange(X.shape[0]):\n",
    "                self.centroids[self.labels[i]] += X[i]\n",
    "                cnts[self.labels[i]][0] += 1\n",
    "                \n",
    "            self.centroids = np.divide(self.centroids, cnts)\n",
    "        \n",
    "        \n",
    "        return self\n",
    "\n",
    "    def predict(self, X, y=None):\n",
    "            dist = DistanceMetric.get_metric(self.metric)\n",
    "            res = dist.pairwise(X, self.centroids)\n",
    "            return res.argmin(axis=1)\n",
    "\n",
    "class MiniBatchKMeans(Kmeans):\n",
    "    def __init__(self, k=2, metric='euclidean', max_iter=1000, random_state=None, init='random', batch_size = 10000):\n",
    "        Kmeans.__init__(self, k, metric, max_iter, random_state, init)\n",
    "        self.batch_size = batch_size\n",
    "        \n",
    "    def fit(self, X, y=None):\n",
    "        \"\"\"\n",
    "        Процедура обучения k-means-minibatch\n",
    "        \"\"\"\n",
    "        \n",
    "        # Инициализация генератора случайных чисел\n",
    "        np.random.seed(self.random_state)\n",
    "        \n",
    "        # Массив с метками кластеров для рандомных объектов из X\n",
    "        self.labels = np.empty(min(X.shape[0], self.batch_size))\n",
    "        \n",
    "        # Массив с центройдами кластеров\n",
    "        self.init_centroids(X);\n",
    "        \n",
    "        \n",
    "        self.cnts = np.zeros(self.k, dtype='int')\n",
    "        \n",
    "        \n",
    "        for n in xrange(self.max_iter):\n",
    "            X1 = X[np.random.choice(xrange(X.shape[0]), min(X.shape[0], self.batch_size))]\n",
    "            \n",
    "            dist = DistanceMetric.get_metric(self.metric)\n",
    "            res = dist.pairwise(X1, self.centroids)\n",
    "            self.labels = res.argmin(axis=1)\n",
    "            \n",
    "            for i in xrange(X1.shape[0]):\n",
    "                self.cnts[self.labels[i]] += 1\n",
    "                n = 1./self.cnts[self.labels[i]]\n",
    "                self.centroids[self.labels[i]] = (1 - n) * self.centroids[self.labels[i]] + n * X1[i]\n",
    "            \n",
    "        return self\n",
    "        "
   ]
  },
  {
   "cell_type": "markdown",
   "metadata": {},
   "source": [
    "### Проверка корректности метода\n",
    "\n",
    "Перед тем как применять алгоритм на реальных данных, нужно испытать его на простых \"игрушечных\" данных.\n",
    "\n",
    "Если алгоритм реализован правильно, то метод должен идеально разбивать на 3 кластера данные ниже. Проверьте это.\n",
    "\n",
    "ВНИМАНИЕ! Проверка должна быть осуществлена на всех реализациях, иначе реализация не будет зачтена!"
   ]
  },
  {
   "cell_type": "code",
   "execution_count": 27,
   "metadata": {
    "collapsed": true
   },
   "outputs": [],
   "source": [
    "from sklearn.datasets import make_blobs"
   ]
  },
  {
   "cell_type": "code",
   "execution_count": 28,
   "metadata": {
    "collapsed": false
   },
   "outputs": [],
   "source": [
    "X, y = make_blobs(n_samples=100, n_features=2, centers=3, cluster_std=1, \n",
    "           center_box=(-10.0, 10.0), shuffle=False, random_state=1234)"
   ]
  },
  {
   "cell_type": "code",
   "execution_count": 29,
   "metadata": {
    "collapsed": false
   },
   "outputs": [
    {
     "data": {
      "text/plain": [
       "<matplotlib.collections.PathCollection at 0xcd34c50>"
      ]
     },
     "execution_count": 29,
     "metadata": {},
     "output_type": "execute_result"
    },
    {
     "data": {
      "image/png": "[encoded data removed]",
      "text/plain": [
       "<matplotlib.figure.Figure at 0xcb1a940>"
      ]
     },
     "metadata": {},
     "output_type": "display_data"
    }
   ],
   "source": [
    "plt.scatter(X[:,0], X[:, 1], c=y)"
   ]
  },
  {
   "cell_type": "code",
   "execution_count": 30,
   "metadata": {
    "collapsed": false
   },
   "outputs": [
    {
     "data": {
      "text/plain": [
       "array([[12, 14],\n",
       "       [16, 18],\n",
       "       [19, 20]])"
      ]
     },
     "execution_count": 30,
     "metadata": {},
     "output_type": "execute_result"
    }
   ],
   "source": [
    "n = np.array([[12, 14], [16, 18]])\n",
    "np.vstack((n, [[19, 20]]))"
   ]
  },
  {
   "cell_type": "markdown",
   "metadata": {},
   "source": [
    "Проверьте Вашу имплементацию на простых данных (без этого пункта задание не считается выполненным).   \n",
    "КОММЕНТАРИИ НЕ СТИРАТЬ!"
   ]
  },
  {
   "cell_type": "code",
   "execution_count": 50,
   "metadata": {
    "collapsed": true
   },
   "outputs": [],
   "source": [
    "Rnd_state = 1000;"
   ]
  },
  {
   "cell_type": "code",
   "execution_count": 32,
   "metadata": {
    "collapsed": false,
    "scrolled": false
   },
   "outputs": [
    {
     "name": "stdout",
     "output_type": "stream",
     "text": [
      "[[-1.29992907  5.919722  ]\n",
      " [ 5.81037396 -4.9431358 ]\n",
      " [-5.99382611  2.25004374]]\n"
     ]
    },
    {
     "data": {
      "image/png": "[encoded data removed]",
      "text/plain": [
       "<matplotlib.figure.Figure at 0xcea8470>"
      ]
     },
     "metadata": {},
     "output_type": "display_data"
    }
   ],
   "source": [
    "## Работоспособность KMeans\n",
    "km = Kmeans(3, random_state=Rnd_state)\n",
    "km.fit(X)\n",
    "plt.scatter(X[:,0], X[:, 1], c=km.labels)\n",
    "print km.centroids"
   ]
  },
  {
   "cell_type": "code",
   "execution_count": 33,
   "metadata": {
    "collapsed": false
   },
   "outputs": [
    {
     "name": "stdout",
     "output_type": "stream",
     "text": [
      "[[-5.99382611  2.25004374]\n",
      " [-1.29992907  5.919722  ]\n",
      " [ 5.81037396 -4.9431358 ]]\n"
     ]
    },
    {
     "data": {
      "image/png": "[encoded data removed]",
      "text/plain": [
       "<matplotlib.figure.Figure at 0xcdf7208>"
      ]
     },
     "metadata": {},
     "output_type": "display_data"
    }
   ],
   "source": [
    "## Работоспособность KMeans++\n",
    "km = Kmeans(3, random_state=Rnd_state, init='k-means')\n",
    "km.fit(X)\n",
    "plt.scatter(X[:,0], X[:, 1], c=km.labels)\n",
    "print km.centroids"
   ]
  },
  {
   "cell_type": "code",
   "execution_count": 34,
   "metadata": {
    "collapsed": false
   },
   "outputs": [
    {
     "name": "stdout",
     "output_type": "stream",
     "text": [
      "[[-1.25273357  5.7322764 ]\n",
      " [ 5.63574659 -4.78340524]\n",
      " [-5.81873958  2.19199256]]\n"
     ]
    },
    {
     "data": {
      "image/png": "[encoded data removed]",
      "text/plain": [
       "<matplotlib.figure.Figure at 0xce9de48>"
      ]
     },
     "metadata": {},
     "output_type": "display_data"
    }
   ],
   "source": [
    "## Работоспособность KMeans с MiniBatchKMeans\n",
    "km = MiniBatchKMeans(3, random_state=Rnd_state, batch_size=50)\n",
    "km.fit(X)\n",
    "labels = km.predict(X)\n",
    "plt.scatter(X[:,0], X[:, 1], c=labels)\n",
    "print km.centroids"
   ]
  },
  {
   "cell_type": "code",
   "execution_count": 35,
   "metadata": {
    "collapsed": false
   },
   "outputs": [
    {
     "name": "stdout",
     "output_type": "stream",
     "text": [
      "[[-5.81788307  2.193091  ]\n",
      " [-1.25028528  5.73066411]\n",
      " [ 5.62954395 -4.78607547]]\n"
     ]
    },
    {
     "data": {
      "image/png": "[encoded data removed]",
      "text/plain": [
       "<matplotlib.figure.Figure at 0xe0e69e8>"
      ]
     },
     "metadata": {},
     "output_type": "display_data"
    }
   ],
   "source": [
    "## Работоспособность KMeans++ с MiniBatchKMeans\n",
    "km = MiniBatchKMeans(3, random_state=Rnd_state, batch_size=50, init=\"k-means\")\n",
    "km.fit(X)\n",
    "labels = km.predict(X)\n",
    "plt.scatter(X[:,0], X[:, 1], c=labels)\n",
    "print km.centroids"
   ]
  },
  {
   "cell_type": "markdown",
   "metadata": {},
   "source": [
    "## Время выполнения KMeans"
   ]
  },
  {
   "cell_type": "code",
   "execution_count": 60,
   "metadata": {
    "collapsed": false
   },
   "outputs": [
    {
     "data": {
      "text/plain": [
       "[<matplotlib.lines.Line2D at 0x1250ba90>]"
      ]
     },
     "execution_count": 60,
     "metadata": {},
     "output_type": "execute_result"
    },
    {
     "data": {
      "image/png": "[encoded data removed]",
      "text/plain": [
       "<matplotlib.figure.Figure at 0x122c86a0>"
      ]
     },
     "metadata": {},
     "output_type": "display_data"
    }
   ],
   "source": [
    "resy = []\n",
    "resx = []\n",
    "for i in xrange(1, 5):\n",
    "    X, y = make_blobs(n_samples= 5**i * 10, n_features=2, centers=3, cluster_std=1, \n",
    "           center_box=(-10.0, 10.0), shuffle=False, random_state=1234)\n",
    "    km = Kmeans(3, random_state=Rnd_state, max_iter=100)\n",
    "    tt = %timeit -n 1 -q -o km.fit(X)\n",
    "    \n",
    "    resy.append(tt.best)\n",
    "    resx.append(5**i * 10)\n",
    "\n",
    "plt.plot(resx, resy)\n"
   ]
  },
  {
   "cell_type": "markdown",
   "metadata": {},
   "source": [
    "## Время выполнения алгоритма KMeans++"
   ]
  },
  {
   "cell_type": "code",
   "execution_count": 61,
   "metadata": {
    "collapsed": false
   },
   "outputs": [
    {
     "data": {
      "text/plain": [
       "[<matplotlib.lines.Line2D at 0x12723780>]"
      ]
     },
     "execution_count": 61,
     "metadata": {},
     "output_type": "execute_result"
    },
    {
     "data": {
      "image/png": "[encoded data removed]",
      "text/plain": [
       "<matplotlib.figure.Figure at 0x123bb978>"
      ]
     },
     "metadata": {},
     "output_type": "display_data"
    }
   ],
   "source": [
    "resy = []\n",
    "resx = []\n",
    "for i in xrange(1, 5):\n",
    "    X, y = make_blobs(n_samples= 5**i * 10, n_features=2, centers=3, cluster_std=1, \n",
    "           center_box=(-10.0, 10.0), shuffle=False, random_state=1234)\n",
    "    km = Kmeans(3, random_state=Rnd_state, max_iter=100, init='k-means')\n",
    "    tt = %timeit -n 1 -q -o km.fit(X)\n",
    "    \n",
    "    resy.append(tt.best)\n",
    "    resx.append(5**i * 10)\n",
    "\n",
    "plt.plot(resx, resy)\n"
   ]
  },
  {
   "cell_type": "markdown",
   "metadata": {},
   "source": [
    "## Время выполнения алгоритма KMeans с MiniBatchKMeans"
   ]
  },
  {
   "cell_type": "code",
   "execution_count": 63,
   "metadata": {
    "collapsed": false
   },
   "outputs": [
    {
     "data": {
      "text/plain": [
       "[<matplotlib.lines.Line2D at 0x12b13a20>]"
      ]
     },
     "execution_count": 63,
     "metadata": {},
     "output_type": "execute_result"
    },
    {
     "data": {
      "image/png": "[encoded data removed]",
      "text/plain": [
       "<matplotlib.figure.Figure at 0x12a2c208>"
      ]
     },
     "metadata": {},
     "output_type": "display_data"
    }
   ],
   "source": [
    "resy = []\n",
    "resx = []\n",
    "for i in xrange(2, 6):\n",
    "    X, y = make_blobs(n_samples= 5**i * 10, n_features=2, centers=3, cluster_std=1, \n",
    "           center_box=(-10.0, 10.0), shuffle=False, random_state=1234)\n",
    "    km = MiniBatchKMeans(3, random_state=Rnd_state, batch_size=5**i, max_iter=100)\n",
    "    tt = %timeit -n 1 -q -o km.fit(X)\n",
    "    \n",
    "    resy.append(tt.best)\n",
    "    resx.append(5**i * 10)\n",
    "\n",
    "plt.plot(resx, resy)\n"
   ]
  },
  {
   "cell_type": "markdown",
   "metadata": {},
   "source": [
    "## Время выполнения алгоритма  KMeans++ с MiniBatchKMeans"
   ]
  },
  {
   "cell_type": "code",
   "execution_count": 64,
   "metadata": {
    "collapsed": false
   },
   "outputs": [
    {
     "data": {
      "text/plain": [
       "[<matplotlib.lines.Line2D at 0x130f7438>]"
      ]
     },
     "execution_count": 64,
     "metadata": {},
     "output_type": "execute_result"
    },
    {
     "data": {
      "image/png": "[encoded data removed]",
      "text/plain": [
       "<matplotlib.figure.Figure at 0xe49f438>"
      ]
     },
     "metadata": {},
     "output_type": "display_data"
    }
   ],
   "source": [
    "resy = []\n",
    "resx = []\n",
    "for i in xrange(2, 6):\n",
    "    X, y = make_blobs(n_samples= 5**i * 10, n_features=2, centers=3, cluster_std=1, \n",
    "           center_box=(-10.0, 10.0), shuffle=False, random_state=1234)\n",
    "    km = MiniBatchKMeans(3, random_state=Rnd_state, batch_size=5**i, max_iter=100, init='k-means')\n",
    "    tt = %timeit -n 1 -q -o km.fit(X)\n",
    "    \n",
    "    resy.append(tt.best)\n",
    "    resx.append(5**i * 10)\n",
    "\n",
    "plt.plot(resx, resy)\n"
   ]
  },
  {
   "cell_type": "markdown",
   "metadata": {},
   "source": [
    "# Применение K-means на реальных данных"
   ]
  },
  {
   "cell_type": "markdown",
   "metadata": {},
   "source": [
    "Загрузите [данные](https://github.com/brenden17/sklearnlab/blob/master/facebook/snsdata.csv) в которых содержится описание интересов профилей учеников старшей школы США.  (без этого пункта задание не считается выполненным).   \n",
    "ВНИМАНИЕ! Проверка должна быть осуществлена на всех реализациях, иначе реализация не будет зачтена!"
   ]
  },
  {
   "cell_type": "code",
   "execution_count": 130,
   "metadata": {
    "collapsed": false
   },
   "outputs": [
    {
     "data": {
      "text/html": [
       "<div>\n",
       "<table border=\"1\" class=\"dataframe\">\n",
       "  <thead>\n",
       "    <tr style=\"text-align: right;\">\n",
       "      <th></th>\n",
       "      <th>basketball</th>\n",
       "      <th>football</th>\n",
       "      <th>soccer</th>\n",
       "      <th>softball</th>\n",
       "      <th>volleyball</th>\n",
       "      <th>swimming</th>\n",
       "      <th>cheerleading</th>\n",
       "      <th>baseball</th>\n",
       "      <th>tennis</th>\n",
       "      <th>sports</th>\n",
       "      <th>...</th>\n",
       "      <th>blonde</th>\n",
       "      <th>mall</th>\n",
       "      <th>shopping</th>\n",
       "      <th>clothes</th>\n",
       "      <th>hollister</th>\n",
       "      <th>abercrombie</th>\n",
       "      <th>die</th>\n",
       "      <th>death</th>\n",
       "      <th>drunk</th>\n",
       "      <th>drugs</th>\n",
       "    </tr>\n",
       "  </thead>\n",
       "  <tbody>\n",
       "    <tr>\n",
       "      <th>0</th>\n",
       "      <td>0</td>\n",
       "      <td>0</td>\n",
       "      <td>0</td>\n",
       "      <td>0</td>\n",
       "      <td>0</td>\n",
       "      <td>0</td>\n",
       "      <td>0</td>\n",
       "      <td>0</td>\n",
       "      <td>0</td>\n",
       "      <td>0</td>\n",
       "      <td>...</td>\n",
       "      <td>0</td>\n",
       "      <td>0</td>\n",
       "      <td>0</td>\n",
       "      <td>0</td>\n",
       "      <td>0</td>\n",
       "      <td>0</td>\n",
       "      <td>0</td>\n",
       "      <td>0</td>\n",
       "      <td>0</td>\n",
       "      <td>0</td>\n",
       "    </tr>\n",
       "    <tr>\n",
       "      <th>1</th>\n",
       "      <td>0</td>\n",
       "      <td>1</td>\n",
       "      <td>0</td>\n",
       "      <td>0</td>\n",
       "      <td>0</td>\n",
       "      <td>0</td>\n",
       "      <td>0</td>\n",
       "      <td>0</td>\n",
       "      <td>0</td>\n",
       "      <td>0</td>\n",
       "      <td>...</td>\n",
       "      <td>0</td>\n",
       "      <td>1</td>\n",
       "      <td>0</td>\n",
       "      <td>0</td>\n",
       "      <td>0</td>\n",
       "      <td>0</td>\n",
       "      <td>0</td>\n",
       "      <td>0</td>\n",
       "      <td>0</td>\n",
       "      <td>0</td>\n",
       "    </tr>\n",
       "    <tr>\n",
       "      <th>2</th>\n",
       "      <td>0</td>\n",
       "      <td>1</td>\n",
       "      <td>0</td>\n",
       "      <td>0</td>\n",
       "      <td>0</td>\n",
       "      <td>0</td>\n",
       "      <td>0</td>\n",
       "      <td>0</td>\n",
       "      <td>0</td>\n",
       "      <td>0</td>\n",
       "      <td>...</td>\n",
       "      <td>0</td>\n",
       "      <td>0</td>\n",
       "      <td>0</td>\n",
       "      <td>0</td>\n",
       "      <td>0</td>\n",
       "      <td>0</td>\n",
       "      <td>0</td>\n",
       "      <td>1</td>\n",
       "      <td>0</td>\n",
       "      <td>0</td>\n",
       "    </tr>\n",
       "    <tr>\n",
       "      <th>3</th>\n",
       "      <td>0</td>\n",
       "      <td>0</td>\n",
       "      <td>0</td>\n",
       "      <td>0</td>\n",
       "      <td>0</td>\n",
       "      <td>0</td>\n",
       "      <td>0</td>\n",
       "      <td>0</td>\n",
       "      <td>0</td>\n",
       "      <td>0</td>\n",
       "      <td>...</td>\n",
       "      <td>0</td>\n",
       "      <td>0</td>\n",
       "      <td>0</td>\n",
       "      <td>0</td>\n",
       "      <td>0</td>\n",
       "      <td>0</td>\n",
       "      <td>0</td>\n",
       "      <td>0</td>\n",
       "      <td>0</td>\n",
       "      <td>0</td>\n",
       "    </tr>\n",
       "    <tr>\n",
       "      <th>4</th>\n",
       "      <td>0</td>\n",
       "      <td>0</td>\n",
       "      <td>0</td>\n",
       "      <td>0</td>\n",
       "      <td>0</td>\n",
       "      <td>0</td>\n",
       "      <td>0</td>\n",
       "      <td>0</td>\n",
       "      <td>0</td>\n",
       "      <td>0</td>\n",
       "      <td>...</td>\n",
       "      <td>0</td>\n",
       "      <td>0</td>\n",
       "      <td>2</td>\n",
       "      <td>0</td>\n",
       "      <td>0</td>\n",
       "      <td>0</td>\n",
       "      <td>0</td>\n",
       "      <td>0</td>\n",
       "      <td>1</td>\n",
       "      <td>1</td>\n",
       "    </tr>\n",
       "  </tbody>\n",
       "</table>\n",
       "<p>5 rows × 36 columns</p>\n",
       "</div>"
      ],
      "text/plain": [
       "   basketball  football  soccer  softball  volleyball  swimming  cheerleading  \\\n",
       "0           0         0       0         0           0         0             0   \n",
       "1           0         1       0         0           0         0             0   \n",
       "2           0         1       0         0           0         0             0   \n",
       "3           0         0       0         0           0         0             0   \n",
       "4           0         0       0         0           0         0             0   \n",
       "\n",
       "   baseball  tennis  sports  ...    blonde  mall  shopping  clothes  \\\n",
       "0         0       0       0  ...         0     0         0        0   \n",
       "1         0       0       0  ...         0     1         0        0   \n",
       "2         0       0       0  ...         0     0         0        0   \n",
       "3         0       0       0  ...         0     0         0        0   \n",
       "4         0       0       0  ...         0     0         2        0   \n",
       "\n",
       "   hollister  abercrombie  die  death  drunk  drugs  \n",
       "0          0            0    0      0      0      0  \n",
       "1          0            0    0      0      0      0  \n",
       "2          0            0    0      1      0      0  \n",
       "3          0            0    0      0      0      0  \n",
       "4          0            0    0      0      1      1  \n",
       "\n",
       "[5 rows x 36 columns]"
      ]
     },
     "execution_count": 130,
     "metadata": {},
     "output_type": "execute_result"
    }
   ],
   "source": [
    "df_sns = pd.read_csv('snsdata.csv', sep=',')\n",
    "df_sns.shape\n",
    "df_sns_users = df_sns.iloc[:, 0:4]\n",
    "df_sns_words = df_sns.iloc[:, 4:]\n",
    "df_sns_words1 = (df_sns_words - df_sns_words.mean(axis=0))/(df_sns_words.std(axis=0))\n",
    "df_sns_words.head()"
   ]
  },
  {
   "cell_type": "markdown",
   "metadata": {},
   "source": [
    "Данные устроены так: \n",
    "* Год выпуска\n",
    "* Пол\n",
    "* Возраст\n",
    "* Количество друзей\n",
    "* 36 ключевых слов, которые встречаются в профилe facebook (интересы, сообщества, встречи)"
   ]
  },
  {
   "cell_type": "markdown",
   "metadata": {},
   "source": [
    "* Удалите все признаки кроме 36 ключевых слов.\n",
    "* Нормализуйте данные - из каждого столбца вычтите его среднее значение и поделите на стандартное отклонение.\n",
    "* Используйте метод k-means чтобы выделить 9 кластеров\n",
    "* Попробуйте проинтерпретировать каждый кластер проанализировав полученные центройды (Некоторые кластеры могут быть очень большие и очень маленькие - плохо интерпретируются)   \n",
    "КОММЕНТАРИИ НЕ СТИРАТЬ!"
   ]
  },
  {
   "cell_type": "code",
   "execution_count": 131,
   "metadata": {
    "collapsed": false
   },
   "outputs": [
    {
     "data": {
      "text/plain": [
       "Kmeans(init='random', k=9, max_iter=100, metric='euclidean',\n",
       "    random_state=None)"
      ]
     },
     "execution_count": 131,
     "metadata": {},
     "output_type": "execute_result"
    }
   ],
   "source": [
    "## KMeans\n",
    "km = Kmeans(9, max_iter=100)\n",
    "km.fit(df_sns_words1.values)"
   ]
  },
  {
   "cell_type": "code",
   "execution_count": 162,
   "metadata": {
    "collapsed": false,
    "scrolled": true
   },
   "outputs": [
    {
     "name": "stdout",
     "output_type": "stream",
     "text": [
      "Centroid 1\n",
      "Element count 1418\n",
      "basketball      1.880255\n",
      "football        0.649745\n",
      "soccer          0.471896\n",
      "softball        1.762056\n",
      "volleyball      1.248601\n",
      "swimming        0.156724\n",
      "cheerleading    0.140568\n",
      "baseball        0.171222\n",
      "tennis          0.132974\n",
      "sports          0.698969\n",
      "cute            0.308755\n",
      "sex             0.151340\n",
      "sexy            0.097142\n",
      "hot             0.150165\n",
      "kissed          0.077741\n",
      "dance           0.486881\n",
      "band            0.241164\n",
      "marching        0.026857\n",
      "music           0.761184\n",
      "rock            0.247376\n",
      "god             0.445872\n",
      "church          0.288663\n",
      "jesus           0.094864\n",
      "bible           0.011047\n",
      "hair            0.472313\n",
      "dress           0.110812\n",
      "blonde          0.122894\n",
      "mall            0.275476\n",
      "shopping        0.427643\n",
      "clothes         0.192902\n",
      "hollister       0.039078\n",
      "abercrombie     0.028446\n",
      "die             0.143262\n",
      "death           0.121099\n",
      "drunk           0.063312\n",
      "drugs           0.036592\n",
      "dtype: float64\n",
      "==========================\n",
      "Centroid 2\n",
      "Element count 2389\n",
      "basketball      0.228717\n",
      "football        0.878007\n",
      "soccer          0.276386\n",
      "softball        0.088004\n",
      "volleyball      0.103497\n",
      "swimming        0.133049\n",
      "cheerleading    0.101898\n",
      "baseball        0.076116\n",
      "tennis          0.233715\n",
      "sports          0.145878\n",
      "cute            0.285036\n",
      "sex             0.132313\n",
      "sexy            0.057345\n",
      "hot             0.083822\n",
      "kissed          0.055008\n",
      "dance           0.468868\n",
      "band            0.469276\n",
      "marching        0.068410\n",
      "music           0.887689\n",
      "rock            0.259335\n",
      "god             1.656536\n",
      "church          1.027122\n",
      "jesus           0.605271\n",
      "bible           0.133006\n",
      "hair            0.383367\n",
      "dress           0.104029\n",
      "blonde          0.084109\n",
      "mall            0.205969\n",
      "shopping        0.235031\n",
      "clothes         0.113252\n",
      "hollister       0.023282\n",
      "abercrombie     0.012584\n",
      "die             0.227363\n",
      "death           0.176742\n",
      "drunk           0.061074\n",
      "drugs           0.033488\n",
      "dtype: float64\n",
      "==========================\n",
      "Centroid 3\n",
      "Element count 18385\n",
      "basketball      0.120851\n",
      "football        0.098591\n",
      "soccer          0.136345\n",
      "softball        0.056023\n",
      "volleyball      0.058009\n",
      "swimming        0.066911\n",
      "cheerleading    0.046480\n",
      "baseball        0.030571\n",
      "tennis          0.052416\n",
      "sports          0.072352\n",
      "cute            0.165495\n",
      "sex             0.094995\n",
      "sexy            0.064903\n",
      "hot             0.060549\n",
      "kissed          0.034026\n",
      "dance           0.239719\n",
      "band            0.163396\n",
      "marching        0.015689\n",
      "music           0.513844\n",
      "rock            0.135602\n",
      "god             0.232045\n",
      "church          0.070858\n",
      "jesus           0.033036\n",
      "bible           0.000883\n",
      "hair            0.189344\n",
      "dress           0.040383\n",
      "blonde          0.040490\n",
      "mall            0.117595\n",
      "shopping        0.126143\n",
      "clothes         0.053284\n",
      "hollister       0.014199\n",
      "abercrombie     0.009252\n",
      "die             0.119606\n",
      "death           0.073466\n",
      "drunk           0.053676\n",
      "drugs           0.021281\n",
      "dtype: float64\n",
      "==========================\n",
      "Centroid 4\n",
      "Element count 311\n",
      "basketball      0.392043\n",
      "football        0.313717\n",
      "soccer          0.239448\n",
      "softball        0.244723\n",
      "volleyball      0.133117\n",
      "swimming        0.183441\n",
      "cheerleading    0.237417\n",
      "baseball        0.112419\n",
      "tennis          0.124594\n",
      "sports          0.189123\n",
      "cute            0.440745\n",
      "sex             0.185065\n",
      "sexy            0.134335\n",
      "hot             0.189934\n",
      "kissed          0.127840\n",
      "dance           0.538147\n",
      "band            0.472400\n",
      "marching        0.045049\n",
      "music           1.058030\n",
      "rock            0.323456\n",
      "god             4.803093\n",
      "church          4.973136\n",
      "jesus           1.900538\n",
      "bible           0.732943\n",
      "hair            0.538147\n",
      "dress           0.195615\n",
      "blonde          0.108766\n",
      "mall            0.424104\n",
      "shopping        0.665985\n",
      "clothes         0.327107\n",
      "hollister       0.063718\n",
      "abercrombie     0.019481\n",
      "die             0.387578\n",
      "death           0.245939\n",
      "drunk           0.109983\n",
      "drugs           0.076298\n",
      "dtype: float64\n",
      "==========================\n",
      "Centroid 5\n",
      "Element count 3592\n",
      "basketball      0.236058\n",
      "football        0.255760\n",
      "soccer          0.441478\n",
      "softball        0.099291\n",
      "volleyball      0.141887\n",
      "swimming        0.413922\n",
      "cheerleading    0.318229\n",
      "baseball        0.061525\n",
      "tennis          0.120142\n",
      "sports          0.118446\n",
      "cute            0.741213\n",
      "sex             0.142406\n",
      "sexy            0.094746\n",
      "hot             0.241635\n",
      "kissed          0.071102\n",
      "dance           0.812517\n",
      "band            0.230881\n",
      "marching        0.017488\n",
      "music           0.858772\n",
      "rock            0.220353\n",
      "god             0.404753\n",
      "church          0.256939\n",
      "jesus           0.066069\n",
      "bible           0.004487\n",
      "hair            0.620815\n",
      "dress           0.400691\n",
      "blonde          0.114677\n",
      "mall            0.775669\n",
      "shopping        1.438070\n",
      "clothes         0.408343\n",
      "hollister       0.069347\n",
      "abercrombie     0.035091\n",
      "die             0.166422\n",
      "death           0.123910\n",
      "drunk           0.082089\n",
      "drugs           0.032963\n",
      "dtype: float64\n",
      "==========================\n",
      "Centroid 6\n",
      "Element count 493\n",
      "basketball      0.816874\n",
      "football        0.939873\n",
      "soccer          0.367084\n",
      "softball        0.220208\n",
      "volleyball      0.123641\n",
      "swimming        0.179279\n",
      "cheerleading    0.208909\n",
      "baseball        3.201824\n",
      "tennis          0.094649\n",
      "sports          0.437002\n",
      "cute            0.399913\n",
      "sex             0.280323\n",
      "sexy            0.146664\n",
      "hot             0.163078\n",
      "kissed          0.095076\n",
      "dance           0.412705\n",
      "band            0.209978\n",
      "marching        0.015988\n",
      "music           0.811979\n",
      "rock            0.593684\n",
      "god             0.445534\n",
      "church          0.364739\n",
      "jesus           0.091878\n",
      "bible           0.015349\n",
      "hair            0.510764\n",
      "dress           0.043062\n",
      "blonde          0.330203\n",
      "mall            0.289916\n",
      "shopping        0.201452\n",
      "clothes         0.129397\n",
      "hollister       0.029206\n",
      "abercrombie     0.022597\n",
      "die             0.146878\n",
      "death           0.106374\n",
      "drunk           0.054573\n",
      "drugs           0.053294\n",
      "dtype: float64\n",
      "==========================\n",
      "Centroid 7\n",
      "Element count 889\n",
      "basketball      0.500166\n",
      "football        0.539076\n",
      "soccer          0.323992\n",
      "softball        0.238229\n",
      "volleyball      0.195915\n",
      "swimming        0.278387\n",
      "cheerleading    0.250026\n",
      "baseball        0.188201\n",
      "tennis          0.156777\n",
      "sports          0.493811\n",
      "cute            0.713890\n",
      "sex             2.600641\n",
      "sexy            0.324898\n",
      "hot             0.270673\n",
      "kissed          1.790670\n",
      "dance           0.930905\n",
      "band            0.757565\n",
      "marching        0.056721\n",
      "music           2.041725\n",
      "rock            0.929087\n",
      "god             0.924099\n",
      "church          0.364037\n",
      "jesus           0.143959\n",
      "bible           0.034373\n",
      "hair            3.283219\n",
      "dress           0.373904\n",
      "blonde          0.888019\n",
      "mall            0.701184\n",
      "shopping        0.544523\n",
      "clothes         0.737937\n",
      "hollister       0.133181\n",
      "abercrombie     0.135563\n",
      "die             1.305597\n",
      "death           0.534536\n",
      "drunk           0.937365\n",
      "drugs           1.094935\n",
      "dtype: float64\n",
      "==========================\n",
      "Centroid 8\n",
      "Element count 859\n",
      "basketball      0.385742\n",
      "football        0.407691\n",
      "soccer          0.322434\n",
      "softball        0.164279\n",
      "volleyball      0.256583\n",
      "swimming        0.244684\n",
      "cheerleading    0.313190\n",
      "baseball        0.103397\n",
      "tennis          0.150415\n",
      "sports          0.179412\n",
      "cute            0.620374\n",
      "sex             0.240411\n",
      "sexy            0.192351\n",
      "hot             0.334331\n",
      "kissed          0.144292\n",
      "dance           0.687958\n",
      "band            0.205755\n",
      "marching        0.014903\n",
      "music           0.905612\n",
      "rock            0.296210\n",
      "god             0.467999\n",
      "church          0.231632\n",
      "jesus           0.113332\n",
      "bible           0.015827\n",
      "hair            0.939917\n",
      "dress           0.173636\n",
      "blonde          0.214416\n",
      "mall            0.657456\n",
      "shopping        0.904566\n",
      "clothes         0.404917\n",
      "hollister       1.493391\n",
      "abercrombie     1.158369\n",
      "die             0.219731\n",
      "death           0.158618\n",
      "drunk           0.097158\n",
      "drugs           0.078789\n",
      "dtype: float64\n",
      "==========================\n",
      "Centroid 9\n",
      "Element count 1664\n",
      "basketball      0.268228\n",
      "football        0.277146\n",
      "soccer          0.267411\n",
      "softball        0.116750\n",
      "volleyball      0.097533\n",
      "swimming        0.147836\n",
      "cheerleading    0.102242\n",
      "baseball        0.087170\n",
      "tennis          0.086479\n",
      "sports          0.138919\n",
      "cute            0.856048\n",
      "sex             0.469882\n",
      "sexy            1.135448\n",
      "hot             0.453489\n",
      "kissed          0.131005\n",
      "dance           1.185631\n",
      "band            1.650232\n",
      "marching        0.371658\n",
      "music           1.934477\n",
      "rock            0.996094\n",
      "god             0.544745\n",
      "church          0.221692\n",
      "jesus           0.087296\n",
      "bible           0.011556\n",
      "hair            0.766433\n",
      "dress           0.138604\n",
      "blonde          0.207685\n",
      "mall            0.293411\n",
      "shopping        0.294167\n",
      "clothes         0.235758\n",
      "hollister       0.031402\n",
      "abercrombie     0.017334\n",
      "die             0.288575\n",
      "death           0.195251\n",
      "drunk           0.122966\n",
      "drugs           0.057590\n",
      "dtype: float64\n",
      "==========================\n"
     ]
    }
   ],
   "source": [
    "for i in xrange(9):\n",
    "    print \"Centroid \" + str(i+1)\n",
    "    print \"Element count \" + str(sum([1 for  j in km.labels if j == i]))\n",
    "    print km.centroids[i] * df_sns_words.values.std(axis=0) + df_sns_words.mean(axis=0)\n",
    "    print \"==========================\""
   ]
  },
  {
   "cell_type": "code",
   "execution_count": 152,
   "metadata": {
    "collapsed": false
   },
   "outputs": [
    {
     "data": {
      "text/plain": [
       "Kmeans(init='k-means', k=9, max_iter=100, metric='euclidean',\n",
       "    random_state=None)"
      ]
     },
     "execution_count": 152,
     "metadata": {},
     "output_type": "execute_result"
    }
   ],
   "source": [
    "## KMeans++\n",
    "km = Kmeans(9, max_iter=100, init=\"k-means\")\n",
    "km.fit(df_sns_words1.values)"
   ]
  },
  {
   "cell_type": "code",
   "execution_count": 166,
   "metadata": {
    "collapsed": false
   },
   "outputs": [
    {
     "name": "stdout",
     "output_type": "stream",
     "text": [
      "Centroid 1\n",
      "Element count 1418\n",
      "basketball      1.880255\n",
      "football        0.649745\n",
      "soccer          0.471896\n",
      "softball        1.762056\n",
      "volleyball      1.248601\n",
      "swimming        0.156724\n",
      "cheerleading    0.140568\n",
      "baseball        0.171222\n",
      "tennis          0.132974\n",
      "sports          0.698969\n",
      "cute            0.308755\n",
      "sex             0.151340\n",
      "sexy            0.097142\n",
      "hot             0.150165\n",
      "kissed          0.077741\n",
      "dance           0.486881\n",
      "band            0.241164\n",
      "marching        0.026857\n",
      "music           0.761184\n",
      "rock            0.247376\n",
      "god             0.445872\n",
      "church          0.288663\n",
      "jesus           0.094864\n",
      "bible           0.011047\n",
      "hair            0.472313\n",
      "dress           0.110812\n",
      "blonde          0.122894\n",
      "mall            0.275476\n",
      "shopping        0.427643\n",
      "clothes         0.192902\n",
      "hollister       0.039078\n",
      "abercrombie     0.028446\n",
      "die             0.143262\n",
      "death           0.121099\n",
      "drunk           0.063312\n",
      "drugs           0.036592\n",
      "dtype: float64\n",
      "==========================\n",
      "Centroid 2\n",
      "Element count 2389\n",
      "basketball      0.228717\n",
      "football        0.878007\n",
      "soccer          0.276386\n",
      "softball        0.088004\n",
      "volleyball      0.103497\n",
      "swimming        0.133049\n",
      "cheerleading    0.101898\n",
      "baseball        0.076116\n",
      "tennis          0.233715\n",
      "sports          0.145878\n",
      "cute            0.285036\n",
      "sex             0.132313\n",
      "sexy            0.057345\n",
      "hot             0.083822\n",
      "kissed          0.055008\n",
      "dance           0.468868\n",
      "band            0.469276\n",
      "marching        0.068410\n",
      "music           0.887689\n",
      "rock            0.259335\n",
      "god             1.656536\n",
      "church          1.027122\n",
      "jesus           0.605271\n",
      "bible           0.133006\n",
      "hair            0.383367\n",
      "dress           0.104029\n",
      "blonde          0.084109\n",
      "mall            0.205969\n",
      "shopping        0.235031\n",
      "clothes         0.113252\n",
      "hollister       0.023282\n",
      "abercrombie     0.012584\n",
      "die             0.227363\n",
      "death           0.176742\n",
      "drunk           0.061074\n",
      "drugs           0.033488\n",
      "dtype: float64\n",
      "==========================\n",
      "Centroid 3\n",
      "Element count 18385\n",
      "basketball      0.120851\n",
      "football        0.098591\n",
      "soccer          0.136345\n",
      "softball        0.056023\n",
      "volleyball      0.058009\n",
      "swimming        0.066911\n",
      "cheerleading    0.046480\n",
      "baseball        0.030571\n",
      "tennis          0.052416\n",
      "sports          0.072352\n",
      "cute            0.165495\n",
      "sex             0.094995\n",
      "sexy            0.064903\n",
      "hot             0.060549\n",
      "kissed          0.034026\n",
      "dance           0.239719\n",
      "band            0.163396\n",
      "marching        0.015689\n",
      "music           0.513844\n",
      "rock            0.135602\n",
      "god             0.232045\n",
      "church          0.070858\n",
      "jesus           0.033036\n",
      "bible           0.000883\n",
      "hair            0.189344\n",
      "dress           0.040383\n",
      "blonde          0.040490\n",
      "mall            0.117595\n",
      "shopping        0.126143\n",
      "clothes         0.053284\n",
      "hollister       0.014199\n",
      "abercrombie     0.009252\n",
      "die             0.119606\n",
      "death           0.073466\n",
      "drunk           0.053676\n",
      "drugs           0.021281\n",
      "dtype: float64\n",
      "==========================\n",
      "Centroid 4\n",
      "Element count 311\n",
      "basketball      0.392043\n",
      "football        0.313717\n",
      "soccer          0.239448\n",
      "softball        0.244723\n",
      "volleyball      0.133117\n",
      "swimming        0.183441\n",
      "cheerleading    0.237417\n",
      "baseball        0.112419\n",
      "tennis          0.124594\n",
      "sports          0.189123\n",
      "cute            0.440745\n",
      "sex             0.185065\n",
      "sexy            0.134335\n",
      "hot             0.189934\n",
      "kissed          0.127840\n",
      "dance           0.538147\n",
      "band            0.472400\n",
      "marching        0.045049\n",
      "music           1.058030\n",
      "rock            0.323456\n",
      "god             4.803093\n",
      "church          4.973136\n",
      "jesus           1.900538\n",
      "bible           0.732943\n",
      "hair            0.538147\n",
      "dress           0.195615\n",
      "blonde          0.108766\n",
      "mall            0.424104\n",
      "shopping        0.665985\n",
      "clothes         0.327107\n",
      "hollister       0.063718\n",
      "abercrombie     0.019481\n",
      "die             0.387578\n",
      "death           0.245939\n",
      "drunk           0.109983\n",
      "drugs           0.076298\n",
      "dtype: float64\n",
      "==========================\n",
      "Centroid 5\n",
      "Element count 3592\n",
      "basketball      0.236058\n",
      "football        0.255760\n",
      "soccer          0.441478\n",
      "softball        0.099291\n",
      "volleyball      0.141887\n",
      "swimming        0.413922\n",
      "cheerleading    0.318229\n",
      "baseball        0.061525\n",
      "tennis          0.120142\n",
      "sports          0.118446\n",
      "cute            0.741213\n",
      "sex             0.142406\n",
      "sexy            0.094746\n",
      "hot             0.241635\n",
      "kissed          0.071102\n",
      "dance           0.812517\n",
      "band            0.230881\n",
      "marching        0.017488\n",
      "music           0.858772\n",
      "rock            0.220353\n",
      "god             0.404753\n",
      "church          0.256939\n",
      "jesus           0.066069\n",
      "bible           0.004487\n",
      "hair            0.620815\n",
      "dress           0.400691\n",
      "blonde          0.114677\n",
      "mall            0.775669\n",
      "shopping        1.438070\n",
      "clothes         0.408343\n",
      "hollister       0.069347\n",
      "abercrombie     0.035091\n",
      "die             0.166422\n",
      "death           0.123910\n",
      "drunk           0.082089\n",
      "drugs           0.032963\n",
      "dtype: float64\n",
      "==========================\n",
      "Centroid 6\n",
      "Element count 493\n",
      "basketball      0.816874\n",
      "football        0.939873\n",
      "soccer          0.367084\n",
      "softball        0.220208\n",
      "volleyball      0.123641\n",
      "swimming        0.179279\n",
      "cheerleading    0.208909\n",
      "baseball        3.201824\n",
      "tennis          0.094649\n",
      "sports          0.437002\n",
      "cute            0.399913\n",
      "sex             0.280323\n",
      "sexy            0.146664\n",
      "hot             0.163078\n",
      "kissed          0.095076\n",
      "dance           0.412705\n",
      "band            0.209978\n",
      "marching        0.015988\n",
      "music           0.811979\n",
      "rock            0.593684\n",
      "god             0.445534\n",
      "church          0.364739\n",
      "jesus           0.091878\n",
      "bible           0.015349\n",
      "hair            0.510764\n",
      "dress           0.043062\n",
      "blonde          0.330203\n",
      "mall            0.289916\n",
      "shopping        0.201452\n",
      "clothes         0.129397\n",
      "hollister       0.029206\n",
      "abercrombie     0.022597\n",
      "die             0.146878\n",
      "death           0.106374\n",
      "drunk           0.054573\n",
      "drugs           0.053294\n",
      "dtype: float64\n",
      "==========================\n",
      "Centroid 7\n",
      "Element count 889\n",
      "basketball      0.500166\n",
      "football        0.539076\n",
      "soccer          0.323992\n",
      "softball        0.238229\n",
      "volleyball      0.195915\n",
      "swimming        0.278387\n",
      "cheerleading    0.250026\n",
      "baseball        0.188201\n",
      "tennis          0.156777\n",
      "sports          0.493811\n",
      "cute            0.713890\n",
      "sex             2.600641\n",
      "sexy            0.324898\n",
      "hot             0.270673\n",
      "kissed          1.790670\n",
      "dance           0.930905\n",
      "band            0.757565\n",
      "marching        0.056721\n",
      "music           2.041725\n",
      "rock            0.929087\n",
      "god             0.924099\n",
      "church          0.364037\n",
      "jesus           0.143959\n",
      "bible           0.034373\n",
      "hair            3.283219\n",
      "dress           0.373904\n",
      "blonde          0.888019\n",
      "mall            0.701184\n",
      "shopping        0.544523\n",
      "clothes         0.737937\n",
      "hollister       0.133181\n",
      "abercrombie     0.135563\n",
      "die             1.305597\n",
      "death           0.534536\n",
      "drunk           0.937365\n",
      "drugs           1.094935\n",
      "dtype: float64\n",
      "==========================\n",
      "Centroid 8\n",
      "Element count 859\n",
      "basketball      0.385742\n",
      "football        0.407691\n",
      "soccer          0.322434\n",
      "softball        0.164279\n",
      "volleyball      0.256583\n",
      "swimming        0.244684\n",
      "cheerleading    0.313190\n",
      "baseball        0.103397\n",
      "tennis          0.150415\n",
      "sports          0.179412\n",
      "cute            0.620374\n",
      "sex             0.240411\n",
      "sexy            0.192351\n",
      "hot             0.334331\n",
      "kissed          0.144292\n",
      "dance           0.687958\n",
      "band            0.205755\n",
      "marching        0.014903\n",
      "music           0.905612\n",
      "rock            0.296210\n",
      "god             0.467999\n",
      "church          0.231632\n",
      "jesus           0.113332\n",
      "bible           0.015827\n",
      "hair            0.939917\n",
      "dress           0.173636\n",
      "blonde          0.214416\n",
      "mall            0.657456\n",
      "shopping        0.904566\n",
      "clothes         0.404917\n",
      "hollister       1.493391\n",
      "abercrombie     1.158369\n",
      "die             0.219731\n",
      "death           0.158618\n",
      "drunk           0.097158\n",
      "drugs           0.078789\n",
      "dtype: float64\n",
      "==========================\n",
      "Centroid 9\n",
      "Element count 1664\n",
      "basketball      0.268228\n",
      "football        0.277146\n",
      "soccer          0.267411\n",
      "softball        0.116750\n",
      "volleyball      0.097533\n",
      "swimming        0.147836\n",
      "cheerleading    0.102242\n",
      "baseball        0.087170\n",
      "tennis          0.086479\n",
      "sports          0.138919\n",
      "cute            0.856048\n",
      "sex             0.469882\n",
      "sexy            1.135448\n",
      "hot             0.453489\n",
      "kissed          0.131005\n",
      "dance           1.185631\n",
      "band            1.650232\n",
      "marching        0.371658\n",
      "music           1.934477\n",
      "rock            0.996094\n",
      "god             0.544745\n",
      "church          0.221692\n",
      "jesus           0.087296\n",
      "bible           0.011556\n",
      "hair            0.766433\n",
      "dress           0.138604\n",
      "blonde          0.207685\n",
      "mall            0.293411\n",
      "shopping        0.294167\n",
      "clothes         0.235758\n",
      "hollister       0.031402\n",
      "abercrombie     0.017334\n",
      "die             0.288575\n",
      "death           0.195251\n",
      "drunk           0.122966\n",
      "drugs           0.057590\n",
      "dtype: float64\n",
      "==========================\n"
     ]
    }
   ],
   "source": [
    "for i in xrange(9):\n",
    "    print \"Centroid \" + str(i+1)\n",
    "    print \"Element count \" + str(sum([1 for  j in km.labels if j == i]))\n",
    "    print km.centroids[i] * df_sns_words.values.std(axis=0) + df_sns_words.mean(axis=0)\n",
    "    print \"==========================\""
   ]
  },
  {
   "cell_type": "code",
   "execution_count": 159,
   "metadata": {
    "collapsed": false
   },
   "outputs": [],
   "source": [
    "## KMeans с MiniBatchKMeans\n",
    "km = MiniBatchKMeans(9, max_iter=100, batch_size=df_sns_words1.shape[0]/10)\n",
    "km.fit(df_sns_words1.values)\n",
    "km.labels = km.predict(df_sns_words1.values)"
   ]
  },
  {
   "cell_type": "code",
   "execution_count": 164,
   "metadata": {
    "collapsed": false
   },
   "outputs": [
    {
     "name": "stdout",
     "output_type": "stream",
     "text": [
      "Centroid 1\n",
      "Element count 1418\n",
      "basketball      1.880255\n",
      "football        0.649745\n",
      "soccer          0.471896\n",
      "softball        1.762056\n",
      "volleyball      1.248601\n",
      "swimming        0.156724\n",
      "cheerleading    0.140568\n",
      "baseball        0.171222\n",
      "tennis          0.132974\n",
      "sports          0.698969\n",
      "cute            0.308755\n",
      "sex             0.151340\n",
      "sexy            0.097142\n",
      "hot             0.150165\n",
      "kissed          0.077741\n",
      "dance           0.486881\n",
      "band            0.241164\n",
      "marching        0.026857\n",
      "music           0.761184\n",
      "rock            0.247376\n",
      "god             0.445872\n",
      "church          0.288663\n",
      "jesus           0.094864\n",
      "bible           0.011047\n",
      "hair            0.472313\n",
      "dress           0.110812\n",
      "blonde          0.122894\n",
      "mall            0.275476\n",
      "shopping        0.427643\n",
      "clothes         0.192902\n",
      "hollister       0.039078\n",
      "abercrombie     0.028446\n",
      "die             0.143262\n",
      "death           0.121099\n",
      "drunk           0.063312\n",
      "drugs           0.036592\n",
      "dtype: float64\n",
      "==========================\n",
      "Centroid 2\n",
      "Element count 2389\n",
      "basketball      0.228717\n",
      "football        0.878007\n",
      "soccer          0.276386\n",
      "softball        0.088004\n",
      "volleyball      0.103497\n",
      "swimming        0.133049\n",
      "cheerleading    0.101898\n",
      "baseball        0.076116\n",
      "tennis          0.233715\n",
      "sports          0.145878\n",
      "cute            0.285036\n",
      "sex             0.132313\n",
      "sexy            0.057345\n",
      "hot             0.083822\n",
      "kissed          0.055008\n",
      "dance           0.468868\n",
      "band            0.469276\n",
      "marching        0.068410\n",
      "music           0.887689\n",
      "rock            0.259335\n",
      "god             1.656536\n",
      "church          1.027122\n",
      "jesus           0.605271\n",
      "bible           0.133006\n",
      "hair            0.383367\n",
      "dress           0.104029\n",
      "blonde          0.084109\n",
      "mall            0.205969\n",
      "shopping        0.235031\n",
      "clothes         0.113252\n",
      "hollister       0.023282\n",
      "abercrombie     0.012584\n",
      "die             0.227363\n",
      "death           0.176742\n",
      "drunk           0.061074\n",
      "drugs           0.033488\n",
      "dtype: float64\n",
      "==========================\n",
      "Centroid 3\n",
      "Element count 18385\n",
      "basketball      0.120851\n",
      "football        0.098591\n",
      "soccer          0.136345\n",
      "softball        0.056023\n",
      "volleyball      0.058009\n",
      "swimming        0.066911\n",
      "cheerleading    0.046480\n",
      "baseball        0.030571\n",
      "tennis          0.052416\n",
      "sports          0.072352\n",
      "cute            0.165495\n",
      "sex             0.094995\n",
      "sexy            0.064903\n",
      "hot             0.060549\n",
      "kissed          0.034026\n",
      "dance           0.239719\n",
      "band            0.163396\n",
      "marching        0.015689\n",
      "music           0.513844\n",
      "rock            0.135602\n",
      "god             0.232045\n",
      "church          0.070858\n",
      "jesus           0.033036\n",
      "bible           0.000883\n",
      "hair            0.189344\n",
      "dress           0.040383\n",
      "blonde          0.040490\n",
      "mall            0.117595\n",
      "shopping        0.126143\n",
      "clothes         0.053284\n",
      "hollister       0.014199\n",
      "abercrombie     0.009252\n",
      "die             0.119606\n",
      "death           0.073466\n",
      "drunk           0.053676\n",
      "drugs           0.021281\n",
      "dtype: float64\n",
      "==========================\n",
      "Centroid 4\n",
      "Element count 311\n",
      "basketball      0.392043\n",
      "football        0.313717\n",
      "soccer          0.239448\n",
      "softball        0.244723\n",
      "volleyball      0.133117\n",
      "swimming        0.183441\n",
      "cheerleading    0.237417\n",
      "baseball        0.112419\n",
      "tennis          0.124594\n",
      "sports          0.189123\n",
      "cute            0.440745\n",
      "sex             0.185065\n",
      "sexy            0.134335\n",
      "hot             0.189934\n",
      "kissed          0.127840\n",
      "dance           0.538147\n",
      "band            0.472400\n",
      "marching        0.045049\n",
      "music           1.058030\n",
      "rock            0.323456\n",
      "god             4.803093\n",
      "church          4.973136\n",
      "jesus           1.900538\n",
      "bible           0.732943\n",
      "hair            0.538147\n",
      "dress           0.195615\n",
      "blonde          0.108766\n",
      "mall            0.424104\n",
      "shopping        0.665985\n",
      "clothes         0.327107\n",
      "hollister       0.063718\n",
      "abercrombie     0.019481\n",
      "die             0.387578\n",
      "death           0.245939\n",
      "drunk           0.109983\n",
      "drugs           0.076298\n",
      "dtype: float64\n",
      "==========================\n",
      "Centroid 5\n",
      "Element count 3592\n",
      "basketball      0.236058\n",
      "football        0.255760\n",
      "soccer          0.441478\n",
      "softball        0.099291\n",
      "volleyball      0.141887\n",
      "swimming        0.413922\n",
      "cheerleading    0.318229\n",
      "baseball        0.061525\n",
      "tennis          0.120142\n",
      "sports          0.118446\n",
      "cute            0.741213\n",
      "sex             0.142406\n",
      "sexy            0.094746\n",
      "hot             0.241635\n",
      "kissed          0.071102\n",
      "dance           0.812517\n",
      "band            0.230881\n",
      "marching        0.017488\n",
      "music           0.858772\n",
      "rock            0.220353\n",
      "god             0.404753\n",
      "church          0.256939\n",
      "jesus           0.066069\n",
      "bible           0.004487\n",
      "hair            0.620815\n",
      "dress           0.400691\n",
      "blonde          0.114677\n",
      "mall            0.775669\n",
      "shopping        1.438070\n",
      "clothes         0.408343\n",
      "hollister       0.069347\n",
      "abercrombie     0.035091\n",
      "die             0.166422\n",
      "death           0.123910\n",
      "drunk           0.082089\n",
      "drugs           0.032963\n",
      "dtype: float64\n",
      "==========================\n",
      "Centroid 6\n",
      "Element count 493\n",
      "basketball      0.816874\n",
      "football        0.939873\n",
      "soccer          0.367084\n",
      "softball        0.220208\n",
      "volleyball      0.123641\n",
      "swimming        0.179279\n",
      "cheerleading    0.208909\n",
      "baseball        3.201824\n",
      "tennis          0.094649\n",
      "sports          0.437002\n",
      "cute            0.399913\n",
      "sex             0.280323\n",
      "sexy            0.146664\n",
      "hot             0.163078\n",
      "kissed          0.095076\n",
      "dance           0.412705\n",
      "band            0.209978\n",
      "marching        0.015988\n",
      "music           0.811979\n",
      "rock            0.593684\n",
      "god             0.445534\n",
      "church          0.364739\n",
      "jesus           0.091878\n",
      "bible           0.015349\n",
      "hair            0.510764\n",
      "dress           0.043062\n",
      "blonde          0.330203\n",
      "mall            0.289916\n",
      "shopping        0.201452\n",
      "clothes         0.129397\n",
      "hollister       0.029206\n",
      "abercrombie     0.022597\n",
      "die             0.146878\n",
      "death           0.106374\n",
      "drunk           0.054573\n",
      "drugs           0.053294\n",
      "dtype: float64\n",
      "==========================\n",
      "Centroid 7\n",
      "Element count 889\n",
      "basketball      0.500166\n",
      "football        0.539076\n",
      "soccer          0.323992\n",
      "softball        0.238229\n",
      "volleyball      0.195915\n",
      "swimming        0.278387\n",
      "cheerleading    0.250026\n",
      "baseball        0.188201\n",
      "tennis          0.156777\n",
      "sports          0.493811\n",
      "cute            0.713890\n",
      "sex             2.600641\n",
      "sexy            0.324898\n",
      "hot             0.270673\n",
      "kissed          1.790670\n",
      "dance           0.930905\n",
      "band            0.757565\n",
      "marching        0.056721\n",
      "music           2.041725\n",
      "rock            0.929087\n",
      "god             0.924099\n",
      "church          0.364037\n",
      "jesus           0.143959\n",
      "bible           0.034373\n",
      "hair            3.283219\n",
      "dress           0.373904\n",
      "blonde          0.888019\n",
      "mall            0.701184\n",
      "shopping        0.544523\n",
      "clothes         0.737937\n",
      "hollister       0.133181\n",
      "abercrombie     0.135563\n",
      "die             1.305597\n",
      "death           0.534536\n",
      "drunk           0.937365\n",
      "drugs           1.094935\n",
      "dtype: float64\n",
      "==========================\n",
      "Centroid 8\n",
      "Element count 859\n",
      "basketball      0.385742\n",
      "football        0.407691\n",
      "soccer          0.322434\n",
      "softball        0.164279\n",
      "volleyball      0.256583\n",
      "swimming        0.244684\n",
      "cheerleading    0.313190\n",
      "baseball        0.103397\n",
      "tennis          0.150415\n",
      "sports          0.179412\n",
      "cute            0.620374\n",
      "sex             0.240411\n",
      "sexy            0.192351\n",
      "hot             0.334331\n",
      "kissed          0.144292\n",
      "dance           0.687958\n",
      "band            0.205755\n",
      "marching        0.014903\n",
      "music           0.905612\n",
      "rock            0.296210\n",
      "god             0.467999\n",
      "church          0.231632\n",
      "jesus           0.113332\n",
      "bible           0.015827\n",
      "hair            0.939917\n",
      "dress           0.173636\n",
      "blonde          0.214416\n",
      "mall            0.657456\n",
      "shopping        0.904566\n",
      "clothes         0.404917\n",
      "hollister       1.493391\n",
      "abercrombie     1.158369\n",
      "die             0.219731\n",
      "death           0.158618\n",
      "drunk           0.097158\n",
      "drugs           0.078789\n",
      "dtype: float64\n",
      "==========================\n",
      "Centroid 9\n",
      "Element count 1664\n",
      "basketball      0.268228\n",
      "football        0.277146\n",
      "soccer          0.267411\n",
      "softball        0.116750\n",
      "volleyball      0.097533\n",
      "swimming        0.147836\n",
      "cheerleading    0.102242\n",
      "baseball        0.087170\n",
      "tennis          0.086479\n",
      "sports          0.138919\n",
      "cute            0.856048\n",
      "sex             0.469882\n",
      "sexy            1.135448\n",
      "hot             0.453489\n",
      "kissed          0.131005\n",
      "dance           1.185631\n",
      "band            1.650232\n",
      "marching        0.371658\n",
      "music           1.934477\n",
      "rock            0.996094\n",
      "god             0.544745\n",
      "church          0.221692\n",
      "jesus           0.087296\n",
      "bible           0.011556\n",
      "hair            0.766433\n",
      "dress           0.138604\n",
      "blonde          0.207685\n",
      "mall            0.293411\n",
      "shopping        0.294167\n",
      "clothes         0.235758\n",
      "hollister       0.031402\n",
      "abercrombie     0.017334\n",
      "die             0.288575\n",
      "death           0.195251\n",
      "drunk           0.122966\n",
      "drugs           0.057590\n",
      "dtype: float64\n",
      "==========================\n"
     ]
    }
   ],
   "source": [
    "for i in xrange(9):\n",
    "    print \"Centroid \" + str(i+1)\n",
    "    print \"Element count \" + str(sum([1 for  j in km.labels if j == i]))\n",
    "    print km.centroids[i] * df_sns_words.values.std(axis=0) + df_sns_words.mean(axis=0)\n",
    "    print \"==========================\""
   ]
  },
  {
   "cell_type": "code",
   "execution_count": 158,
   "metadata": {
    "collapsed": false
   },
   "outputs": [],
   "source": [
    "## KMeans++ с MiniBatchKMeans\n",
    "km = MiniBatchKMeans(9, init=\"k-means\", max_iter=100, batch_size=df_sns_words1.shape[0]/10)\n",
    "km.fit(df_sns_words1.values)\n",
    "km.labels = km.predict(df_sns_words1.values)"
   ]
  },
  {
   "cell_type": "code",
   "execution_count": 163,
   "metadata": {
    "collapsed": false
   },
   "outputs": [
    {
     "name": "stdout",
     "output_type": "stream",
     "text": [
      "Centroid 1\n",
      "Element count 1418\n",
      "basketball      1.880255\n",
      "football        0.649745\n",
      "soccer          0.471896\n",
      "softball        1.762056\n",
      "volleyball      1.248601\n",
      "swimming        0.156724\n",
      "cheerleading    0.140568\n",
      "baseball        0.171222\n",
      "tennis          0.132974\n",
      "sports          0.698969\n",
      "cute            0.308755\n",
      "sex             0.151340\n",
      "sexy            0.097142\n",
      "hot             0.150165\n",
      "kissed          0.077741\n",
      "dance           0.486881\n",
      "band            0.241164\n",
      "marching        0.026857\n",
      "music           0.761184\n",
      "rock            0.247376\n",
      "god             0.445872\n",
      "church          0.288663\n",
      "jesus           0.094864\n",
      "bible           0.011047\n",
      "hair            0.472313\n",
      "dress           0.110812\n",
      "blonde          0.122894\n",
      "mall            0.275476\n",
      "shopping        0.427643\n",
      "clothes         0.192902\n",
      "hollister       0.039078\n",
      "abercrombie     0.028446\n",
      "die             0.143262\n",
      "death           0.121099\n",
      "drunk           0.063312\n",
      "drugs           0.036592\n",
      "dtype: float64\n",
      "==========================\n",
      "Centroid 2\n",
      "Element count 2389\n",
      "basketball      0.228717\n",
      "football        0.878007\n",
      "soccer          0.276386\n",
      "softball        0.088004\n",
      "volleyball      0.103497\n",
      "swimming        0.133049\n",
      "cheerleading    0.101898\n",
      "baseball        0.076116\n",
      "tennis          0.233715\n",
      "sports          0.145878\n",
      "cute            0.285036\n",
      "sex             0.132313\n",
      "sexy            0.057345\n",
      "hot             0.083822\n",
      "kissed          0.055008\n",
      "dance           0.468868\n",
      "band            0.469276\n",
      "marching        0.068410\n",
      "music           0.887689\n",
      "rock            0.259335\n",
      "god             1.656536\n",
      "church          1.027122\n",
      "jesus           0.605271\n",
      "bible           0.133006\n",
      "hair            0.383367\n",
      "dress           0.104029\n",
      "blonde          0.084109\n",
      "mall            0.205969\n",
      "shopping        0.235031\n",
      "clothes         0.113252\n",
      "hollister       0.023282\n",
      "abercrombie     0.012584\n",
      "die             0.227363\n",
      "death           0.176742\n",
      "drunk           0.061074\n",
      "drugs           0.033488\n",
      "dtype: float64\n",
      "==========================\n",
      "Centroid 3\n",
      "Element count 18385\n",
      "basketball      0.120851\n",
      "football        0.098591\n",
      "soccer          0.136345\n",
      "softball        0.056023\n",
      "volleyball      0.058009\n",
      "swimming        0.066911\n",
      "cheerleading    0.046480\n",
      "baseball        0.030571\n",
      "tennis          0.052416\n",
      "sports          0.072352\n",
      "cute            0.165495\n",
      "sex             0.094995\n",
      "sexy            0.064903\n",
      "hot             0.060549\n",
      "kissed          0.034026\n",
      "dance           0.239719\n",
      "band            0.163396\n",
      "marching        0.015689\n",
      "music           0.513844\n",
      "rock            0.135602\n",
      "god             0.232045\n",
      "church          0.070858\n",
      "jesus           0.033036\n",
      "bible           0.000883\n",
      "hair            0.189344\n",
      "dress           0.040383\n",
      "blonde          0.040490\n",
      "mall            0.117595\n",
      "shopping        0.126143\n",
      "clothes         0.053284\n",
      "hollister       0.014199\n",
      "abercrombie     0.009252\n",
      "die             0.119606\n",
      "death           0.073466\n",
      "drunk           0.053676\n",
      "drugs           0.021281\n",
      "dtype: float64\n",
      "==========================\n",
      "Centroid 4\n",
      "Element count 311\n",
      "basketball      0.392043\n",
      "football        0.313717\n",
      "soccer          0.239448\n",
      "softball        0.244723\n",
      "volleyball      0.133117\n",
      "swimming        0.183441\n",
      "cheerleading    0.237417\n",
      "baseball        0.112419\n",
      "tennis          0.124594\n",
      "sports          0.189123\n",
      "cute            0.440745\n",
      "sex             0.185065\n",
      "sexy            0.134335\n",
      "hot             0.189934\n",
      "kissed          0.127840\n",
      "dance           0.538147\n",
      "band            0.472400\n",
      "marching        0.045049\n",
      "music           1.058030\n",
      "rock            0.323456\n",
      "god             4.803093\n",
      "church          4.973136\n",
      "jesus           1.900538\n",
      "bible           0.732943\n",
      "hair            0.538147\n",
      "dress           0.195615\n",
      "blonde          0.108766\n",
      "mall            0.424104\n",
      "shopping        0.665985\n",
      "clothes         0.327107\n",
      "hollister       0.063718\n",
      "abercrombie     0.019481\n",
      "die             0.387578\n",
      "death           0.245939\n",
      "drunk           0.109983\n",
      "drugs           0.076298\n",
      "dtype: float64\n",
      "==========================\n",
      "Centroid 5\n",
      "Element count 3592\n",
      "basketball      0.236058\n",
      "football        0.255760\n",
      "soccer          0.441478\n",
      "softball        0.099291\n",
      "volleyball      0.141887\n",
      "swimming        0.413922\n",
      "cheerleading    0.318229\n",
      "baseball        0.061525\n",
      "tennis          0.120142\n",
      "sports          0.118446\n",
      "cute            0.741213\n",
      "sex             0.142406\n",
      "sexy            0.094746\n",
      "hot             0.241635\n",
      "kissed          0.071102\n",
      "dance           0.812517\n",
      "band            0.230881\n",
      "marching        0.017488\n",
      "music           0.858772\n",
      "rock            0.220353\n",
      "god             0.404753\n",
      "church          0.256939\n",
      "jesus           0.066069\n",
      "bible           0.004487\n",
      "hair            0.620815\n",
      "dress           0.400691\n",
      "blonde          0.114677\n",
      "mall            0.775669\n",
      "shopping        1.438070\n",
      "clothes         0.408343\n",
      "hollister       0.069347\n",
      "abercrombie     0.035091\n",
      "die             0.166422\n",
      "death           0.123910\n",
      "drunk           0.082089\n",
      "drugs           0.032963\n",
      "dtype: float64\n",
      "==========================\n",
      "Centroid 6\n",
      "Element count 493\n",
      "basketball      0.816874\n",
      "football        0.939873\n",
      "soccer          0.367084\n",
      "softball        0.220208\n",
      "volleyball      0.123641\n",
      "swimming        0.179279\n",
      "cheerleading    0.208909\n",
      "baseball        3.201824\n",
      "tennis          0.094649\n",
      "sports          0.437002\n",
      "cute            0.399913\n",
      "sex             0.280323\n",
      "sexy            0.146664\n",
      "hot             0.163078\n",
      "kissed          0.095076\n",
      "dance           0.412705\n",
      "band            0.209978\n",
      "marching        0.015988\n",
      "music           0.811979\n",
      "rock            0.593684\n",
      "god             0.445534\n",
      "church          0.364739\n",
      "jesus           0.091878\n",
      "bible           0.015349\n",
      "hair            0.510764\n",
      "dress           0.043062\n",
      "blonde          0.330203\n",
      "mall            0.289916\n",
      "shopping        0.201452\n",
      "clothes         0.129397\n",
      "hollister       0.029206\n",
      "abercrombie     0.022597\n",
      "die             0.146878\n",
      "death           0.106374\n",
      "drunk           0.054573\n",
      "drugs           0.053294\n",
      "dtype: float64\n",
      "==========================\n",
      "Centroid 7\n",
      "Element count 889\n",
      "basketball      0.500166\n",
      "football        0.539076\n",
      "soccer          0.323992\n",
      "softball        0.238229\n",
      "volleyball      0.195915\n",
      "swimming        0.278387\n",
      "cheerleading    0.250026\n",
      "baseball        0.188201\n",
      "tennis          0.156777\n",
      "sports          0.493811\n",
      "cute            0.713890\n",
      "sex             2.600641\n",
      "sexy            0.324898\n",
      "hot             0.270673\n",
      "kissed          1.790670\n",
      "dance           0.930905\n",
      "band            0.757565\n",
      "marching        0.056721\n",
      "music           2.041725\n",
      "rock            0.929087\n",
      "god             0.924099\n",
      "church          0.364037\n",
      "jesus           0.143959\n",
      "bible           0.034373\n",
      "hair            3.283219\n",
      "dress           0.373904\n",
      "blonde          0.888019\n",
      "mall            0.701184\n",
      "shopping        0.544523\n",
      "clothes         0.737937\n",
      "hollister       0.133181\n",
      "abercrombie     0.135563\n",
      "die             1.305597\n",
      "death           0.534536\n",
      "drunk           0.937365\n",
      "drugs           1.094935\n",
      "dtype: float64\n",
      "==========================\n",
      "Centroid 8\n",
      "Element count 859\n",
      "basketball      0.385742\n",
      "football        0.407691\n",
      "soccer          0.322434\n",
      "softball        0.164279\n",
      "volleyball      0.256583\n",
      "swimming        0.244684\n",
      "cheerleading    0.313190\n",
      "baseball        0.103397\n",
      "tennis          0.150415\n",
      "sports          0.179412\n",
      "cute            0.620374\n",
      "sex             0.240411\n",
      "sexy            0.192351\n",
      "hot             0.334331\n",
      "kissed          0.144292\n",
      "dance           0.687958\n",
      "band            0.205755\n",
      "marching        0.014903\n",
      "music           0.905612\n",
      "rock            0.296210\n",
      "god             0.467999\n",
      "church          0.231632\n",
      "jesus           0.113332\n",
      "bible           0.015827\n",
      "hair            0.939917\n",
      "dress           0.173636\n",
      "blonde          0.214416\n",
      "mall            0.657456\n",
      "shopping        0.904566\n",
      "clothes         0.404917\n",
      "hollister       1.493391\n",
      "abercrombie     1.158369\n",
      "die             0.219731\n",
      "death           0.158618\n",
      "drunk           0.097158\n",
      "drugs           0.078789\n",
      "dtype: float64\n",
      "==========================\n",
      "Centroid 9\n",
      "Element count 1664\n",
      "basketball      0.268228\n",
      "football        0.277146\n",
      "soccer          0.267411\n",
      "softball        0.116750\n",
      "volleyball      0.097533\n",
      "swimming        0.147836\n",
      "cheerleading    0.102242\n",
      "baseball        0.087170\n",
      "tennis          0.086479\n",
      "sports          0.138919\n",
      "cute            0.856048\n",
      "sex             0.469882\n",
      "sexy            1.135448\n",
      "hot             0.453489\n",
      "kissed          0.131005\n",
      "dance           1.185631\n",
      "band            1.650232\n",
      "marching        0.371658\n",
      "music           1.934477\n",
      "rock            0.996094\n",
      "god             0.544745\n",
      "church          0.221692\n",
      "jesus           0.087296\n",
      "bible           0.011556\n",
      "hair            0.766433\n",
      "dress           0.138604\n",
      "blonde          0.207685\n",
      "mall            0.293411\n",
      "shopping        0.294167\n",
      "clothes         0.235758\n",
      "hollister       0.031402\n",
      "abercrombie     0.017334\n",
      "die             0.288575\n",
      "death           0.195251\n",
      "drunk           0.122966\n",
      "drugs           0.057590\n",
      "dtype: float64\n",
      "==========================\n"
     ]
    }
   ],
   "source": [
    "for i in xrange(9):\n",
    "    print \"Centroid \" + str(i+1)\n",
    "    print \"Element count \" + str(sum([1 for  j in km.labels if j == i]))\n",
    "    print km.centroids[i] * df_sns_words.values.std(axis=0) + df_sns_words.mean(axis=0)\n",
    "    print \"==========================\""
   ]
  },
  {
   "cell_type": "markdown",
   "metadata": {
    "collapsed": true
   },
   "source": [
    "## Вывод\n",
    "### Kmeans\n",
    "1. преобладают слова волейболисты, женский бейсбол, баскетбол. Скорее всего это спортсмены\n",
    "2. преобладают слова Бог и церковь, скорее всего религиозные люди\n",
    "3. серая масса, неинтерпретируемый кластер\n",
    "4. очень сильно преобладают религиозные слова, скорее всего сильно религиозные люди\n",
    "5. преобладает слово шоппинг, Малл, милый, скорее всего модницы\n",
    "6. бейсболисты\n",
    "7. секс, наркотики, рок-н-ролл\n",
    "8. abercrombie и hollister - похоже на названия магазинов одежды\n",
    "9. танцы, тусовки, музыка\n",
    "\n",
    "### Остальные алгоритмы\n",
    "Остальные алгоритмы дают примерно такой же результат. Т.к. данных весьма много и кластеры чётко выделяются."
   ]
  }
 ],
 "metadata": {
  "anaconda-cloud": {},
  "kernelspec": {
   "display_name": "Python 2",
   "language": "python",
   "name": "python2"
  },
  "language_info": {
   "codemirror_mode": {
    "name": "ipython",
    "version": 2
   },
   "file_extension": ".py",
   "mimetype": "text/x-python",
   "name": "python",
   "nbconvert_exporter": "python",
   "pygments_lexer": "ipython2",
   "version": "2.7.13"
  },
  "nav_menu": {},
  "toc": {
   "navigate_menu": true,
   "number_sections": false,
   "sideBar": true,
   "threshold": 6,
   "toc_cell": false,
   "toc_section_display": "block",
   "toc_window_display": true
  }
 },
 "nbformat": 4,
 "nbformat_minor": 2
}
